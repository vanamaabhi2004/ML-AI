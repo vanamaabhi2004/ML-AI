{
  "nbformat": 4,
  "nbformat_minor": 0,
  "metadata": {
    "colab": {
      "provenance": [],
      "include_colab_link": true
    },
    "kernelspec": {
      "name": "python3",
      "display_name": "Python 3"
    },
    "language_info": {
      "name": "python"
    }
  },
  "cells": [
    {
      "cell_type": "markdown",
      "metadata": {
        "id": "view-in-github",
        "colab_type": "text"
      },
      "source": [
        "<a href=\"https://colab.research.google.com/github/vanamaabhi2004/ML-AI/blob/main/Intro_KNN.ipynb\" target=\"_parent\"><img src=\"https://colab.research.google.com/assets/colab-badge.svg\" alt=\"Open In Colab\"/></a>"
      ]
    },
    {
      "cell_type": "code",
      "execution_count": null,
      "metadata": {
        "id": "HVkyI9lKO60g"
      },
      "outputs": [],
      "source": [
        "# Popular websites for Datasets\n",
        "# 1. Kaggle\n",
        "# 2. UCI ML\n",
        "# ....... there are a lot of other websites that host tonnes of datasets.\n",
        "\n",
        "# sklearn pre-installed datasets:\n",
        "# 1. https://scikit-learn.org/stable/datasets/real_world.html\n",
        "# 2. https://scikit-learn.org/stable/datasets/toy_dataset.html\n",
        "\n",
        "# You can also create synthetic datasets with\n",
        "# sklearn [science-kit learn] --> the main package for ML\n",
        "\n",
        "# https://scikit-learn.org/stable/modules/generated/sklearn.datasets.make_regression.html\n",
        "from sklearn.datasets import make_regression\n",
        "X, Y = make_regression(n_samples = 100, n_features = 5, n_targets = 1, n_informative = 3)\n",
        "# X and Y are NumPy arrays"
      ]
    },
    {
      "cell_type": "code",
      "source": [
        "X.shape"
      ],
      "metadata": {
        "colab": {
          "base_uri": "https://localhost:8080/"
        },
        "id": "3x7LLpIwRFeU",
        "outputId": "3c35fae4-775c-4132-b4e3-fb8d8443bfd1"
      },
      "execution_count": null,
      "outputs": [
        {
          "output_type": "execute_result",
          "data": {
            "text/plain": [
              "(100, 5)"
            ]
          },
          "metadata": {},
          "execution_count": 2
        }
      ]
    },
    {
      "cell_type": "code",
      "source": [
        "Y.shape"
      ],
      "metadata": {
        "colab": {
          "base_uri": "https://localhost:8080/"
        },
        "id": "u3lhHDFKRGfo",
        "outputId": "9e6cb8c9-60fa-4898-9b63-e360ac912768"
      },
      "execution_count": null,
      "outputs": [
        {
          "output_type": "execute_result",
          "data": {
            "text/plain": [
              "(100,)"
            ]
          },
          "metadata": {},
          "execution_count": 3
        }
      ]
    },
    {
      "cell_type": "code",
      "source": [
        "# Loading a pre-installed sklearn dataset\n",
        "# https://scikit-learn.org/stable/datasets/toy_dataset.html\n",
        "from sklearn.datasets import load_diabetes\n",
        "dataset  = load_diabetes()"
      ],
      "metadata": {
        "id": "4MIsXUcpRHdN"
      },
      "execution_count": null,
      "outputs": []
    },
    {
      "cell_type": "code",
      "source": [
        "type(dataset)"
      ],
      "metadata": {
        "colab": {
          "base_uri": "https://localhost:8080/"
        },
        "id": "YDTT2zsiRt1l",
        "outputId": "137b0006-56d5-43b1-919b-b15356526282"
      },
      "execution_count": null,
      "outputs": [
        {
          "output_type": "execute_result",
          "data": {
            "text/plain": [
              "sklearn.utils._bunch.Bunch"
            ]
          },
          "metadata": {},
          "execution_count": 5
        }
      ]
    },
    {
      "cell_type": "code",
      "source": [
        "dir(dataset) # Properties (components) of the dataset can be listed with dir()"
      ],
      "metadata": {
        "colab": {
          "base_uri": "https://localhost:8080/"
        },
        "id": "ebGOMGS8R42f",
        "outputId": "cad52605-7849-41b6-f795-bdb0da759197"
      },
      "execution_count": null,
      "outputs": [
        {
          "output_type": "execute_result",
          "data": {
            "text/plain": [
              "['DESCR',\n",
              " 'data',\n",
              " 'data_filename',\n",
              " 'data_module',\n",
              " 'feature_names',\n",
              " 'frame',\n",
              " 'target',\n",
              " 'target_filename']"
            ]
          },
          "metadata": {},
          "execution_count": 6
        }
      ]
    },
    {
      "cell_type": "code",
      "source": [
        "dataset.keys() # Alternate way"
      ],
      "metadata": {
        "colab": {
          "base_uri": "https://localhost:8080/"
        },
        "id": "aISHL_sJSGJl",
        "outputId": "868fae32-4c91-45d1-e17d-769682e3bb4b"
      },
      "execution_count": null,
      "outputs": [
        {
          "output_type": "execute_result",
          "data": {
            "text/plain": [
              "dict_keys(['data', 'target', 'frame', 'DESCR', 'feature_names', 'data_filename', 'target_filename', 'data_module'])"
            ]
          },
          "metadata": {},
          "execution_count": 7
        }
      ]
    },
    {
      "cell_type": "code",
      "source": [
        "X = dataset.data\n",
        "X.shape # Input"
      ],
      "metadata": {
        "colab": {
          "base_uri": "https://localhost:8080/"
        },
        "id": "B4vYD8ONSL64",
        "outputId": "b8d09640-38c2-4c3f-cce9-e97212062fa0"
      },
      "execution_count": null,
      "outputs": [
        {
          "output_type": "execute_result",
          "data": {
            "text/plain": [
              "(442, 10)"
            ]
          },
          "metadata": {},
          "execution_count": 8
        }
      ]
    },
    {
      "cell_type": "code",
      "source": [
        "Y = dataset.target # Output"
      ],
      "metadata": {
        "id": "T7sInCdpSXBh"
      },
      "execution_count": null,
      "outputs": []
    },
    {
      "cell_type": "code",
      "source": [
        "print(dataset.DESCR) # Description of the dataset"
      ],
      "metadata": {
        "colab": {
          "base_uri": "https://localhost:8080/"
        },
        "id": "uNxNG85uSour",
        "outputId": "f4680c8e-6f3d-407a-e279-c1b8b6773bc9"
      },
      "execution_count": null,
      "outputs": [
        {
          "output_type": "stream",
          "name": "stdout",
          "text": [
            ".. _diabetes_dataset:\n",
            "\n",
            "Diabetes dataset\n",
            "----------------\n",
            "\n",
            "Ten baseline variables, age, sex, body mass index, average blood\n",
            "pressure, and six blood serum measurements were obtained for each of n =\n",
            "442 diabetes patients, as well as the response of interest, a\n",
            "quantitative measure of disease progression one year after baseline.\n",
            "\n",
            "**Data Set Characteristics:**\n",
            "\n",
            "  :Number of Instances: 442\n",
            "\n",
            "  :Number of Attributes: First 10 columns are numeric predictive values\n",
            "\n",
            "  :Target: Column 11 is a quantitative measure of disease progression one year after baseline\n",
            "\n",
            "  :Attribute Information:\n",
            "      - age     age in years\n",
            "      - sex\n",
            "      - bmi     body mass index\n",
            "      - bp      average blood pressure\n",
            "      - s1      tc, total serum cholesterol\n",
            "      - s2      ldl, low-density lipoproteins\n",
            "      - s3      hdl, high-density lipoproteins\n",
            "      - s4      tch, total cholesterol / HDL\n",
            "      - s5      ltg, possibly log of serum triglycerides level\n",
            "      - s6      glu, blood sugar level\n",
            "\n",
            "Note: Each of these 10 feature variables have been mean centered and scaled by the standard deviation times the square root of `n_samples` (i.e. the sum of squares of each column totals 1).\n",
            "\n",
            "Source URL:\n",
            "https://www4.stat.ncsu.edu/~boos/var.select/diabetes.html\n",
            "\n",
            "For more information see:\n",
            "Bradley Efron, Trevor Hastie, Iain Johnstone and Robert Tibshirani (2004) \"Least Angle Regression,\" Annals of Statistics (with discussion), 407-499.\n",
            "(https://web.stanford.edu/~hastie/Papers/LARS/LeastAngle_2002.pdf)\n",
            "\n"
          ]
        }
      ]
    },
    {
      "cell_type": "code",
      "source": [
        "Y[:5] # First 5 outputs"
      ],
      "metadata": {
        "colab": {
          "base_uri": "https://localhost:8080/"
        },
        "id": "m0lMCz0DScTh",
        "outputId": "8cd70ef3-2b7d-4d88-db0d-d9a496a3d1b9"
      },
      "execution_count": null,
      "outputs": [
        {
          "output_type": "execute_result",
          "data": {
            "text/plain": [
              "array([151.,  75., 141., 206., 135.])"
            ]
          },
          "metadata": {},
          "execution_count": 12
        }
      ]
    },
    {
      "cell_type": "code",
      "source": [
        "dataset.feature_names # Names of the features"
      ],
      "metadata": {
        "colab": {
          "base_uri": "https://localhost:8080/"
        },
        "id": "lrouBHDfTWBO",
        "outputId": "6261288e-ee5c-496c-cdfb-4e3c6088e863"
      },
      "execution_count": null,
      "outputs": [
        {
          "output_type": "execute_result",
          "data": {
            "text/plain": [
              "['age', 'sex', 'bmi', 'bp', 's1', 's2', 's3', 's4', 's5', 's6']"
            ]
          },
          "metadata": {},
          "execution_count": 13
        }
      ]
    },
    {
      "cell_type": "code",
      "source": [
        "# Uni-Variate and Single-Output Regression Task\n",
        "#f(bmi) --> Y\n",
        "inp = X[:,2] # bmi [using the bmi column only!]\n",
        "# Y --> output\n",
        "\n",
        "# https://scikit-learn.org/stable/modules/generated/sklearn.neighbors.KNeighborsRegressor.html\n",
        "from sklearn.neighbors import KNeighborsRegressor\n",
        "knn = KNeighborsRegressor(n_neighbors = 2, metric = 'euclidean', weights = 'uniform')\n",
        "knn.fit(inp[:5].reshape(-1,1), Y[:5])\n",
        "# The data passed to the fit function will be used by the ML model (knn) to make the predictions"
      ],
      "metadata": {
        "colab": {
          "base_uri": "https://localhost:8080/",
          "height": 75
        },
        "id": "mYoaFmvYTJik",
        "outputId": "f5f09fa1-b6d0-4a79-8d9b-e46cf3335977"
      },
      "execution_count": null,
      "outputs": [
        {
          "output_type": "execute_result",
          "data": {
            "text/plain": [
              "KNeighborsRegressor(metric='euclidean', n_neighbors=2)"
            ],
            "text/html": [
              "<style>#sk-container-id-2 {color: black;background-color: white;}#sk-container-id-2 pre{padding: 0;}#sk-container-id-2 div.sk-toggleable {background-color: white;}#sk-container-id-2 label.sk-toggleable__label {cursor: pointer;display: block;width: 100%;margin-bottom: 0;padding: 0.3em;box-sizing: border-box;text-align: center;}#sk-container-id-2 label.sk-toggleable__label-arrow:before {content: \"▸\";float: left;margin-right: 0.25em;color: #696969;}#sk-container-id-2 label.sk-toggleable__label-arrow:hover:before {color: black;}#sk-container-id-2 div.sk-estimator:hover label.sk-toggleable__label-arrow:before {color: black;}#sk-container-id-2 div.sk-toggleable__content {max-height: 0;max-width: 0;overflow: hidden;text-align: left;background-color: #f0f8ff;}#sk-container-id-2 div.sk-toggleable__content pre {margin: 0.2em;color: black;border-radius: 0.25em;background-color: #f0f8ff;}#sk-container-id-2 input.sk-toggleable__control:checked~div.sk-toggleable__content {max-height: 200px;max-width: 100%;overflow: auto;}#sk-container-id-2 input.sk-toggleable__control:checked~label.sk-toggleable__label-arrow:before {content: \"▾\";}#sk-container-id-2 div.sk-estimator input.sk-toggleable__control:checked~label.sk-toggleable__label {background-color: #d4ebff;}#sk-container-id-2 div.sk-label input.sk-toggleable__control:checked~label.sk-toggleable__label {background-color: #d4ebff;}#sk-container-id-2 input.sk-hidden--visually {border: 0;clip: rect(1px 1px 1px 1px);clip: rect(1px, 1px, 1px, 1px);height: 1px;margin: -1px;overflow: hidden;padding: 0;position: absolute;width: 1px;}#sk-container-id-2 div.sk-estimator {font-family: monospace;background-color: #f0f8ff;border: 1px dotted black;border-radius: 0.25em;box-sizing: border-box;margin-bottom: 0.5em;}#sk-container-id-2 div.sk-estimator:hover {background-color: #d4ebff;}#sk-container-id-2 div.sk-parallel-item::after {content: \"\";width: 100%;border-bottom: 1px solid gray;flex-grow: 1;}#sk-container-id-2 div.sk-label:hover label.sk-toggleable__label {background-color: #d4ebff;}#sk-container-id-2 div.sk-serial::before {content: \"\";position: absolute;border-left: 1px solid gray;box-sizing: border-box;top: 0;bottom: 0;left: 50%;z-index: 0;}#sk-container-id-2 div.sk-serial {display: flex;flex-direction: column;align-items: center;background-color: white;padding-right: 0.2em;padding-left: 0.2em;position: relative;}#sk-container-id-2 div.sk-item {position: relative;z-index: 1;}#sk-container-id-2 div.sk-parallel {display: flex;align-items: stretch;justify-content: center;background-color: white;position: relative;}#sk-container-id-2 div.sk-item::before, #sk-container-id-2 div.sk-parallel-item::before {content: \"\";position: absolute;border-left: 1px solid gray;box-sizing: border-box;top: 0;bottom: 0;left: 50%;z-index: -1;}#sk-container-id-2 div.sk-parallel-item {display: flex;flex-direction: column;z-index: 1;position: relative;background-color: white;}#sk-container-id-2 div.sk-parallel-item:first-child::after {align-self: flex-end;width: 50%;}#sk-container-id-2 div.sk-parallel-item:last-child::after {align-self: flex-start;width: 50%;}#sk-container-id-2 div.sk-parallel-item:only-child::after {width: 0;}#sk-container-id-2 div.sk-dashed-wrapped {border: 1px dashed gray;margin: 0 0.4em 0.5em 0.4em;box-sizing: border-box;padding-bottom: 0.4em;background-color: white;}#sk-container-id-2 div.sk-label label {font-family: monospace;font-weight: bold;display: inline-block;line-height: 1.2em;}#sk-container-id-2 div.sk-label-container {text-align: center;}#sk-container-id-2 div.sk-container {/* jupyter's `normalize.less` sets `[hidden] { display: none; }` but bootstrap.min.css set `[hidden] { display: none !important; }` so we also need the `!important` here to be able to override the default hidden behavior on the sphinx rendered scikit-learn.org. See: https://github.com/scikit-learn/scikit-learn/issues/21755 */display: inline-block !important;position: relative;}#sk-container-id-2 div.sk-text-repr-fallback {display: none;}</style><div id=\"sk-container-id-2\" class=\"sk-top-container\"><div class=\"sk-text-repr-fallback\"><pre>KNeighborsRegressor(metric=&#x27;euclidean&#x27;, n_neighbors=2)</pre><b>In a Jupyter environment, please rerun this cell to show the HTML representation or trust the notebook. <br />On GitHub, the HTML representation is unable to render, please try loading this page with nbviewer.org.</b></div><div class=\"sk-container\" hidden><div class=\"sk-item\"><div class=\"sk-estimator sk-toggleable\"><input class=\"sk-toggleable__control sk-hidden--visually\" id=\"sk-estimator-id-2\" type=\"checkbox\" checked><label for=\"sk-estimator-id-2\" class=\"sk-toggleable__label sk-toggleable__label-arrow\">KNeighborsRegressor</label><div class=\"sk-toggleable__content\"><pre>KNeighborsRegressor(metric=&#x27;euclidean&#x27;, n_neighbors=2)</pre></div></div></div></div></div>"
            ]
          },
          "metadata": {},
          "execution_count": 22
        }
      ]
    },
    {
      "cell_type": "code",
      "source": [
        "inp[:5], Y[:5]"
      ],
      "metadata": {
        "colab": {
          "base_uri": "https://localhost:8080/"
        },
        "id": "wnUgCAqqTg_L",
        "outputId": "e794dcd7-f3ba-4dae-fb3a-46dcb58be3be"
      },
      "execution_count": null,
      "outputs": [
        {
          "output_type": "execute_result",
          "data": {
            "text/plain": [
              "(array([ 0.06169621, -0.05147406,  0.04445121, -0.01159501, -0.03638469]),\n",
              " array([151.,  75., 141., 206., 135.]))"
            ]
          },
          "metadata": {},
          "execution_count": 23
        }
      ]
    },
    {
      "cell_type": "code",
      "source": [
        "import numpy as np\n",
        "knn.predict(np.array([0.06, -0.05]).reshape(-1,1))\n",
        "# predict function to get the estimate for input samples"
      ],
      "metadata": {
        "colab": {
          "base_uri": "https://localhost:8080/"
        },
        "id": "qg7GkwXaV8Mg",
        "outputId": "dc776840-9e3a-4c50-f49a-f40b7dab918c"
      },
      "execution_count": null,
      "outputs": [
        {
          "output_type": "execute_result",
          "data": {
            "text/plain": [
              "array([146., 105.])"
            ]
          },
          "metadata": {},
          "execution_count": 25
        }
      ]
    },
    {
      "cell_type": "code",
      "source": [
        "(151 + 141)/2"
      ],
      "metadata": {
        "colab": {
          "base_uri": "https://localhost:8080/"
        },
        "id": "GRd4_f_jV53D",
        "outputId": "bbfac4b9-0efe-44f1-e398-5f8a639d0c06"
      },
      "execution_count": null,
      "outputs": [
        {
          "output_type": "execute_result",
          "data": {
            "text/plain": [
              "146.0"
            ]
          },
          "metadata": {},
          "execution_count": 24
        }
      ]
    },
    {
      "cell_type": "code",
      "source": [
        "(75 + 135)/2"
      ],
      "metadata": {
        "colab": {
          "base_uri": "https://localhost:8080/"
        },
        "id": "EtDu4BTFXyBJ",
        "outputId": "d6435e8e-1607-46a8-d093-13c7896be2f0"
      },
      "execution_count": null,
      "outputs": [
        {
          "output_type": "execute_result",
          "data": {
            "text/plain": [
              "105.0"
            ]
          },
          "metadata": {},
          "execution_count": 26
        }
      ]
    },
    {
      "cell_type": "code",
      "source": [
        "from sklearn.model_selection import train_test_split\n",
        "x_train, x_test, y_train, y_test = train_test_split(inp.reshape(-1,1), Y, test_size = 0.3, random_state = 1)"
      ],
      "metadata": {
        "id": "rt5rzClHX80y"
      },
      "execution_count": null,
      "outputs": []
    },
    {
      "cell_type": "code",
      "source": [
        "x_train.shape"
      ],
      "metadata": {
        "colab": {
          "base_uri": "https://localhost:8080/"
        },
        "id": "Cvf32p0wZQ2Q",
        "outputId": "1b842285-c66b-46f9-b023-11f2776dcfac"
      },
      "execution_count": null,
      "outputs": [
        {
          "output_type": "execute_result",
          "data": {
            "text/plain": [
              "(309, 1)"
            ]
          },
          "metadata": {},
          "execution_count": 28
        }
      ]
    },
    {
      "cell_type": "code",
      "source": [
        "x_test.shape"
      ],
      "metadata": {
        "colab": {
          "base_uri": "https://localhost:8080/"
        },
        "id": "TgRWxvjpZWR-",
        "outputId": "5fd259c9-0d6f-4655-9d0f-d86f5d2b6bfa"
      },
      "execution_count": null,
      "outputs": [
        {
          "output_type": "execute_result",
          "data": {
            "text/plain": [
              "(133, 1)"
            ]
          },
          "metadata": {},
          "execution_count": 29
        }
      ]
    },
    {
      "cell_type": "code",
      "source": [
        "knn = KNeighborsRegressor(n_neighbors = 1, metric = 'euclidean')\n",
        "knn.fit(x_train, y_train)"
      ],
      "metadata": {
        "colab": {
          "base_uri": "https://localhost:8080/",
          "height": 75
        },
        "id": "xdYM0mj_ZE6z",
        "outputId": "78f2736c-d2f3-47cf-ddcf-f49fc142dfa9"
      },
      "execution_count": null,
      "outputs": [
        {
          "output_type": "execute_result",
          "data": {
            "text/plain": [
              "KNeighborsRegressor(metric='euclidean', n_neighbors=1)"
            ],
            "text/html": [
              "<style>#sk-container-id-3 {color: black;background-color: white;}#sk-container-id-3 pre{padding: 0;}#sk-container-id-3 div.sk-toggleable {background-color: white;}#sk-container-id-3 label.sk-toggleable__label {cursor: pointer;display: block;width: 100%;margin-bottom: 0;padding: 0.3em;box-sizing: border-box;text-align: center;}#sk-container-id-3 label.sk-toggleable__label-arrow:before {content: \"▸\";float: left;margin-right: 0.25em;color: #696969;}#sk-container-id-3 label.sk-toggleable__label-arrow:hover:before {color: black;}#sk-container-id-3 div.sk-estimator:hover label.sk-toggleable__label-arrow:before {color: black;}#sk-container-id-3 div.sk-toggleable__content {max-height: 0;max-width: 0;overflow: hidden;text-align: left;background-color: #f0f8ff;}#sk-container-id-3 div.sk-toggleable__content pre {margin: 0.2em;color: black;border-radius: 0.25em;background-color: #f0f8ff;}#sk-container-id-3 input.sk-toggleable__control:checked~div.sk-toggleable__content {max-height: 200px;max-width: 100%;overflow: auto;}#sk-container-id-3 input.sk-toggleable__control:checked~label.sk-toggleable__label-arrow:before {content: \"▾\";}#sk-container-id-3 div.sk-estimator input.sk-toggleable__control:checked~label.sk-toggleable__label {background-color: #d4ebff;}#sk-container-id-3 div.sk-label input.sk-toggleable__control:checked~label.sk-toggleable__label {background-color: #d4ebff;}#sk-container-id-3 input.sk-hidden--visually {border: 0;clip: rect(1px 1px 1px 1px);clip: rect(1px, 1px, 1px, 1px);height: 1px;margin: -1px;overflow: hidden;padding: 0;position: absolute;width: 1px;}#sk-container-id-3 div.sk-estimator {font-family: monospace;background-color: #f0f8ff;border: 1px dotted black;border-radius: 0.25em;box-sizing: border-box;margin-bottom: 0.5em;}#sk-container-id-3 div.sk-estimator:hover {background-color: #d4ebff;}#sk-container-id-3 div.sk-parallel-item::after {content: \"\";width: 100%;border-bottom: 1px solid gray;flex-grow: 1;}#sk-container-id-3 div.sk-label:hover label.sk-toggleable__label {background-color: #d4ebff;}#sk-container-id-3 div.sk-serial::before {content: \"\";position: absolute;border-left: 1px solid gray;box-sizing: border-box;top: 0;bottom: 0;left: 50%;z-index: 0;}#sk-container-id-3 div.sk-serial {display: flex;flex-direction: column;align-items: center;background-color: white;padding-right: 0.2em;padding-left: 0.2em;position: relative;}#sk-container-id-3 div.sk-item {position: relative;z-index: 1;}#sk-container-id-3 div.sk-parallel {display: flex;align-items: stretch;justify-content: center;background-color: white;position: relative;}#sk-container-id-3 div.sk-item::before, #sk-container-id-3 div.sk-parallel-item::before {content: \"\";position: absolute;border-left: 1px solid gray;box-sizing: border-box;top: 0;bottom: 0;left: 50%;z-index: -1;}#sk-container-id-3 div.sk-parallel-item {display: flex;flex-direction: column;z-index: 1;position: relative;background-color: white;}#sk-container-id-3 div.sk-parallel-item:first-child::after {align-self: flex-end;width: 50%;}#sk-container-id-3 div.sk-parallel-item:last-child::after {align-self: flex-start;width: 50%;}#sk-container-id-3 div.sk-parallel-item:only-child::after {width: 0;}#sk-container-id-3 div.sk-dashed-wrapped {border: 1px dashed gray;margin: 0 0.4em 0.5em 0.4em;box-sizing: border-box;padding-bottom: 0.4em;background-color: white;}#sk-container-id-3 div.sk-label label {font-family: monospace;font-weight: bold;display: inline-block;line-height: 1.2em;}#sk-container-id-3 div.sk-label-container {text-align: center;}#sk-container-id-3 div.sk-container {/* jupyter's `normalize.less` sets `[hidden] { display: none; }` but bootstrap.min.css set `[hidden] { display: none !important; }` so we also need the `!important` here to be able to override the default hidden behavior on the sphinx rendered scikit-learn.org. See: https://github.com/scikit-learn/scikit-learn/issues/21755 */display: inline-block !important;position: relative;}#sk-container-id-3 div.sk-text-repr-fallback {display: none;}</style><div id=\"sk-container-id-3\" class=\"sk-top-container\"><div class=\"sk-text-repr-fallback\"><pre>KNeighborsRegressor(metric=&#x27;euclidean&#x27;, n_neighbors=1)</pre><b>In a Jupyter environment, please rerun this cell to show the HTML representation or trust the notebook. <br />On GitHub, the HTML representation is unable to render, please try loading this page with nbviewer.org.</b></div><div class=\"sk-container\" hidden><div class=\"sk-item\"><div class=\"sk-estimator sk-toggleable\"><input class=\"sk-toggleable__control sk-hidden--visually\" id=\"sk-estimator-id-3\" type=\"checkbox\" checked><label for=\"sk-estimator-id-3\" class=\"sk-toggleable__label sk-toggleable__label-arrow\">KNeighborsRegressor</label><div class=\"sk-toggleable__content\"><pre>KNeighborsRegressor(metric=&#x27;euclidean&#x27;, n_neighbors=1)</pre></div></div></div></div></div>"
            ]
          },
          "metadata": {},
          "execution_count": 30
        }
      ]
    },
    {
      "cell_type": "code",
      "source": [
        "y_pred = knn.predict(x_test)\n",
        "y_pred"
      ],
      "metadata": {
        "colab": {
          "base_uri": "https://localhost:8080/"
        },
        "id": "CgV9HydKZYtq",
        "outputId": "470d1f44-2e59-423f-c380-bdeb48607217"
      },
      "execution_count": null,
      "outputs": [
        {
          "output_type": "execute_result",
          "data": {
            "text/plain": [
              "array([104.,  72., 128.,  96., 138., 237., 275., 151.,  49.,  50., 310.,\n",
              "       111., 172.,  49., 103.,  95., 141.,  54.,  84., 276.,  73.,  75.,\n",
              "        61.,  72.,  45., 232.,  49.,  52., 127., 235., 134., 113., 173.,\n",
              "        54., 158., 225.,  57., 132.,  52.,  84., 150., 134., 172.,  91.,\n",
              "       171.,  87., 170., 127.,  85., 111.,  95., 280.,  93.,  72., 265.,\n",
              "       124.,  67., 172.,  48., 252.,  69., 257., 150., 111., 275.,  96.,\n",
              "        72., 295., 166.,  70.,  39., 144.,  47., 171., 283.,  83., 252.,\n",
              "        72.,  52., 283.,  39., 179.,  61., 177.,  86., 131.,  48., 143.,\n",
              "       242., 151., 113., 235.,  94.,  94.,  96., 295.,  54.,  49., 232.,\n",
              "        70.,  70., 177.,  91., 171., 257., 128., 131., 151.,  96.,  83.,\n",
              "        50.,  85., 138.,  72., 200., 202., 158.,  55., 200., 171., 158.,\n",
              "       132., 336., 109., 177., 200.,  96., 174.,  91., 297., 185., 202.,\n",
              "       126.])"
            ]
          },
          "metadata": {},
          "execution_count": 33
        }
      ]
    },
    {
      "cell_type": "code",
      "source": [
        "y_test"
      ],
      "metadata": {
        "colab": {
          "base_uri": "https://localhost:8080/"
        },
        "id": "DsvW9DzQZdwK",
        "outputId": "08bc5e20-6523-4e7b-af1d-912eaa99a9f1"
      },
      "execution_count": null,
      "outputs": [
        {
          "output_type": "execute_result",
          "data": {
            "text/plain": [
              "array([ 78., 152., 200.,  59., 311., 178., 332., 132., 156., 135., 220.,\n",
              "       233.,  91.,  51., 195., 109., 217.,  94.,  89., 111., 129., 181.,\n",
              "       168.,  97., 115., 202.,  84., 147., 253., 144., 262., 115.,  68.,\n",
              "        65., 252., 212., 142., 215., 180., 163., 151., 283.,  66.,  83.,\n",
              "       214., 189., 302.,  93., 178., 241.,  52., 144., 102., 200., 232.,\n",
              "        97., 109.,  55.,  63.,  98.,  88., 233., 235.,  97., 243.,  59.,\n",
              "       138., 220., 137.,  72., 109.,  71.,  74., 219., 196., 170., 199.,\n",
              "        71., 155.,  52.,  63.,  88.,  97., 100.,  64., 107.,  49.,  60.,\n",
              "       346., 104., 259., 143., 190., 104.,  77., 141., 214.,  51., 175.,\n",
              "       167.,  90.,  39., 160., 101., 180.,  69., 281., 281., 214.,  96.,\n",
              "       146., 268., 249.,  55., 107., 172., 162., 134.,  48., 150.,  63.,\n",
              "       245., 237., 185., 131., 144.,  79., 127., 216.,  90., 178., 122.,\n",
              "        92.])"
            ]
          },
          "metadata": {},
          "execution_count": 32
        }
      ]
    },
    {
      "cell_type": "markdown",
      "source": [
        "**Some Evaluation Metrics** (for regression tasks)\n",
        "\n",
        "1.   Sum of Absolute Errors (SAE)\n",
        "2.   Mean Absolute Error (MAE)\n",
        "3.   Sum of Squared Errors (SSE)\n",
        "4.   Mean Squared Error (MSE)\n",
        "\n"
      ],
      "metadata": {
        "id": "-KCZQs351XJW"
      }
    },
    {
      "cell_type": "code",
      "source": [
        "# Evaluation Metrics [Regression]\n",
        "\n",
        "# sum(|[y_pred - y_actual]|) # SAE\n",
        "\n",
        "# SAE/num_Samples_test # MAE\n",
        "\n",
        "# sum(|[y_pred - y_actual]|^2) # SSE\n",
        "# SSE/num_samples_test # MSE\n",
        "\n",
        "\n",
        "np.abs(y_pred - y_test).sum() # SAE"
      ],
      "metadata": {
        "colab": {
          "base_uri": "https://localhost:8080/"
        },
        "id": "MhGKyWEYZgMr",
        "outputId": "c064136d-8ec6-41c0-bec0-7e854b39b711"
      },
      "execution_count": null,
      "outputs": [
        {
          "output_type": "execute_result",
          "data": {
            "text/plain": [
              "9510.0"
            ]
          },
          "metadata": {},
          "execution_count": 36
        }
      ]
    },
    {
      "cell_type": "code",
      "source": [
        "np.abs(y_pred - y_test).sum()/y_test.shape[0] # MAE"
      ],
      "metadata": {
        "colab": {
          "base_uri": "https://localhost:8080/"
        },
        "id": "H8ZQ27MkaPLO",
        "outputId": "abf4ffd2-6555-4c71-a1b5-c9c3cb651d1b"
      },
      "execution_count": null,
      "outputs": [
        {
          "output_type": "execute_result",
          "data": {
            "text/plain": [
              "71.50375939849624"
            ]
          },
          "metadata": {},
          "execution_count": 37
        }
      ]
    },
    {
      "cell_type": "code",
      "source": [
        "((np.abs(y_pred - y_test))** 2).sum() # SSE"
      ],
      "metadata": {
        "colab": {
          "base_uri": "https://localhost:8080/"
        },
        "id": "jvDynjTPadmG",
        "outputId": "88d05a1e-abbb-4d4b-85fe-1fa4d9483e5c"
      },
      "execution_count": null,
      "outputs": [
        {
          "output_type": "execute_result",
          "data": {
            "text/plain": [
              "1003118.0"
            ]
          },
          "metadata": {},
          "execution_count": 38
        }
      ]
    },
    {
      "cell_type": "code",
      "source": [
        "((np.abs(y_pred - y_test))** 2).sum() /y_test.shape[0] # MSE"
      ],
      "metadata": {
        "colab": {
          "base_uri": "https://localhost:8080/"
        },
        "id": "FN_ju9W6anQY",
        "outputId": "71dc32bc-4010-4a79-8d1e-4016dc4b29e1"
      },
      "execution_count": null,
      "outputs": [
        {
          "output_type": "execute_result",
          "data": {
            "text/plain": [
              "7542.2406015037595"
            ]
          },
          "metadata": {},
          "execution_count": 39
        }
      ]
    },
    {
      "cell_type": "code",
      "source": [
        "from sklearn.metrics import mean_squared_error\n",
        "mean_squared_error(y_test, y_pred)"
      ],
      "metadata": {
        "colab": {
          "base_uri": "https://localhost:8080/"
        },
        "id": "irqeuuB5aq92",
        "outputId": "c07850d3-9670-4c96-e018-9234d635cee3"
      },
      "execution_count": null,
      "outputs": [
        {
          "output_type": "execute_result",
          "data": {
            "text/plain": [
              "7542.2406015037595"
            ]
          },
          "metadata": {},
          "execution_count": 40
        }
      ]
    },
    {
      "cell_type": "markdown",
      "source": [
        "**Refer to this link for more regression metrics**:\n",
        "> https://scikit-learn.org/stable/modules/model_evaluation.html#regression-metrics"
      ],
      "metadata": {
        "id": "Ys4NyaiX0kYo"
      }
    },
    {
      "cell_type": "code",
      "source": [
        "# Checking which value of n_neighbors gives us the best score.\n",
        "mse = []\n",
        "for k in range(1,26):\n",
        "  knn = KNeighborsRegressor(n_neighbors = k, metric = 'euclidean')\n",
        "  knn.fit(x_train, y_train)\n",
        "\n",
        "  mse.append(mean_squared_error(y_test, knn.predict(x_test)))"
      ],
      "metadata": {
        "id": "stIZoilCa4rP"
      },
      "execution_count": null,
      "outputs": []
    },
    {
      "cell_type": "code",
      "source": [
        "min(mse) # Lower the better"
      ],
      "metadata": {
        "colab": {
          "base_uri": "https://localhost:8080/"
        },
        "id": "Cb2NibmSbSm2",
        "outputId": "ad8defbb-2235-449d-a470-82ad809fdcb9"
      },
      "execution_count": null,
      "outputs": [
        {
          "output_type": "execute_result",
          "data": {
            "text/plain": [
              "4480.267905112498"
            ]
          },
          "metadata": {},
          "execution_count": 44
        }
      ]
    },
    {
      "cell_type": "code",
      "source": [
        "mse.index(min(mse))"
      ],
      "metadata": {
        "colab": {
          "base_uri": "https://localhost:8080/"
        },
        "id": "iRo6r7oCbTvl",
        "outputId": "4edc347c-e206-40e1-b89c-38e45e2607b7"
      },
      "execution_count": null,
      "outputs": [
        {
          "output_type": "execute_result",
          "data": {
            "text/plain": [
              "22"
            ]
          },
          "metadata": {},
          "execution_count": 45
        }
      ]
    },
    {
      "cell_type": "code",
      "source": [
        "range(1,26)[mse.index(min(mse))] # Best value of n_neighbors for the test dataset\n",
        "\n",
        "# Question to Ponder: Would you the consider the best value that you obtained just now to be an unbiased estimate\n",
        "# of the true performance?"
      ],
      "metadata": {
        "colab": {
          "base_uri": "https://localhost:8080/"
        },
        "id": "RXbGZX_abc1s",
        "outputId": "ecbd88c4-cd8f-43dc-bd5f-7d9ac6958067"
      },
      "execution_count": null,
      "outputs": [
        {
          "output_type": "execute_result",
          "data": {
            "text/plain": [
              "23"
            ]
          },
          "metadata": {},
          "execution_count": 46
        }
      ]
    },
    {
      "cell_type": "code",
      "source": [
        "knn.predict(x_train)"
      ],
      "metadata": {
        "colab": {
          "base_uri": "https://localhost:8080/"
        },
        "id": "YNfhpSDnbkdB",
        "outputId": "24dbc756-0530-4ca3-d78a-7b46dcc35e04"
      },
      "execution_count": null,
      "outputs": [
        {
          "output_type": "execute_result",
          "data": {
            "text/plain": [
              "array([263.68, 116.92, 190.08, 139.68, 164.56, 148.44, 117.52, 251.64,\n",
              "        83.28, 189.32,  91.64, 135.84, 102.2 ,  91.16, 123.76, 212.44,\n",
              "       116.92, 198.24, 201.24, 141.52, 118.56, 159.48, 115.4 , 129.48,\n",
              "       164.56,  82.32,  94.32, 109.4 , 183.  , 111.08,  92.48, 111.8 ,\n",
              "       189.36, 139.68, 207.56,  98.64,  84.44, 207.44, 116.92, 118.56,\n",
              "       209.6 ,  89.24, 189.44, 263.68, 159.48, 210.04, 209.4 , 183.  ,\n",
              "       143.56, 188.92, 123.76, 194.44, 102.92, 114.56, 164.56, 111.08,\n",
              "        98.12, 119.44,  84.44, 207.56, 189.36, 194.92, 209.4 , 202.96,\n",
              "       190.08,  83.28, 119.44, 234.96, 164.48, 263.28, 144.52, 189.44,\n",
              "        91.16, 142.92,  89.08, 188.96, 144.52, 148.44, 117.52, 139.08,\n",
              "       192.72, 135.84, 119.44, 116.92, 135.84, 141.36, 245.24, 202.44,\n",
              "       209.6 ,  89.08, 148.72, 114.56, 111.8 , 123.76, 120.12, 202.44,\n",
              "       195.04, 209.4 , 112.72, 191.72, 164.56,  88.2 , 202.96, 190.08,\n",
              "       111.8 , 234.96, 206.56,  89.8 , 185.16, 188.96, 141.36, 114.76,\n",
              "       111.8 , 223.8 , 116.92, 102.92, 194.44, 263.28,  87.68, 188.76,\n",
              "       209.4 , 188.76, 118.56, 111.24, 194.44,  97.  ,  94.32, 189.32,\n",
              "        98.12, 263.68, 139.08,  95.32, 116.92, 111.8 , 201.24, 183.  ,\n",
              "       204.08, 117.52, 211.56,  98.12, 205.04, 113.72, 200.56,  91.16,\n",
              "       202.84, 183.28, 207.44, 193.08, 187.88, 195.04, 142.68, 139.04,\n",
              "       190.08, 205.04, 116.92, 201.24, 188.92, 148.72, 139.68, 245.24,\n",
              "        94.48, 234.96, 263.68, 111.24, 142.92,  89.24, 102.2 , 111.8 ,\n",
              "       214.16, 206.32,  93.4 , 207.56, 159.48,  83.28, 188.92, 102.92,\n",
              "       251.64,  83.28, 139.04, 127.4 , 131.64, 206.56, 211.32, 139.08,\n",
              "       142.16, 102.92,  83.28, 114.56, 176.68, 206.56, 210.76,  89.08,\n",
              "       116.92,  91.2 , 204.28, 205.04,  92.48, 120.12, 116.92,  92.48,\n",
              "       111.24,  83.28, 119.44, 131.64,  98.64, 192.88, 144.52, 263.28,\n",
              "       191.84, 111.24, 143.56, 212.44, 117.52, 139.04, 189.36, 191.84,\n",
              "       129.48, 141.36, 102.2 ,  91.16, 159.48, 143.56, 206.32, 159.48,\n",
              "       263.28,  89.08, 127.4 ,  83.28,  90.2 , 176.68, 234.96, 188.76,\n",
              "       109.4 , 116.92,  89.8 , 214.16, 118.56, 263.28, 191.36,  91.36,\n",
              "       131.64,  91.16, 263.28, 129.48,  91.16, 118.56, 112.72, 141.52,\n",
              "       144.52, 144.52, 234.96,  91.16,  83.28, 208.88, 119.44, 205.04,\n",
              "       139.68, 207.56, 206.56, 211.32,  92.48, 192.88, 209.6 , 139.08,\n",
              "       122.8 , 183.28, 208.88, 112.72, 206.56, 120.12,  96.2 , 207.56,\n",
              "       139.04, 111.08, 159.48, 148.44,  82.32, 200.56,  83.28,  82.32,\n",
              "       141.52, 245.24, 120.12, 135.84, 211.32, 142.16, 142.92, 189.32,\n",
              "       139.08, 109.4 , 202.84, 202.44, 213.2 , 141.52,  83.28, 190.08,\n",
              "        89.84, 191.84, 210.04, 193.08,  91.64,  96.36, 201.24,  91.16,\n",
              "        88.2 , 139.04, 116.92, 134.04, 176.68])"
            ]
          },
          "metadata": {},
          "execution_count": 48
        }
      ]
    },
    {
      "cell_type": "code",
      "source": [
        "from matplotlib import pyplot as plt\n",
        "plt.scatter(y_train, knn.predict(x_train))\n",
        "plt.xlabel('Actual')\n",
        "plt.ylabel('Predicted')\n",
        "plt.title('How well the model is doing?')\n",
        "plt.plot([0,350],[0,350])\n",
        "plt.show()"
      ],
      "metadata": {
        "colab": {
          "base_uri": "https://localhost:8080/",
          "height": 472
        },
        "id": "sDp3oLxac2jr",
        "outputId": "cacb88fd-ba48-445a-f1a0-ac08917a510e"
      },
      "execution_count": null,
      "outputs": [
        {
          "output_type": "display_data",
          "data": {
            "text/plain": [
              "<Figure size 640x480 with 1 Axes>"
            ],
            "image/png": "[encoded data removed]"
          },
          "metadata": {}
        }
      ]
    },
    {
      "cell_type": "code",
      "source": [],
      "metadata": {
        "id": "Bh2vhkOMdFOI"
      },
      "execution_count": null,
      "outputs": []
    }
  ]
}