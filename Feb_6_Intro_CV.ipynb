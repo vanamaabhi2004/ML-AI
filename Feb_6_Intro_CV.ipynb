{
  "cells": [
    {
      "cell_type": "markdown",
      "metadata": {
        "id": "view-in-github",
        "colab_type": "text"
      },
      "source": [
        "<a href=\"https://colab.research.google.com/github/vanamaabhi2004/ML-AI/blob/main/Feb_6_Intro_CV.ipynb\" target=\"_parent\"><img src=\"https://colab.research.google.com/assets/colab-badge.svg\" alt=\"Open In Colab\"/></a>"
      ]
    },
    {
      "cell_type": "code",
      "execution_count": null,
      "id": "9736141c-9989-4d71-8923-f28d85162031",
      "metadata": {
        "id": "9736141c-9989-4d71-8923-f28d85162031"
      },
      "outputs": [],
      "source": [
        "import pandas as pd\n",
        "import numpy as np"
      ]
    },
    {
      "cell_type": "code",
      "execution_count": null,
      "id": "9e38db6d-218c-4fa5-9864-3432e5347258",
      "metadata": {
        "id": "9e38db6d-218c-4fa5-9864-3432e5347258"
      },
      "outputs": [],
      "source": [
        "from sklearn.datasets import load_diabetes\n",
        "dataset  = load_diabetes()\n",
        "X = dataset.data\n",
        "Y = dataset.target"
      ]
    },
    {
      "cell_type": "code",
      "execution_count": null,
      "id": "757cc1b1-9538-44d6-8d4f-945d9a7f9f25",
      "metadata": {
        "id": "757cc1b1-9538-44d6-8d4f-945d9a7f9f25"
      },
      "outputs": [],
      "source": [
        "# Using only bmi as the input\n",
        "# Univariate Single-output regression task\n",
        "inp = X[:,2].reshape(-1,1)"
      ]
    },
    {
      "cell_type": "code",
      "execution_count": null,
      "id": "bc94cc67-d041-4755-8904-2c26634024a4",
      "metadata": {
        "id": "bc94cc67-d041-4755-8904-2c26634024a4"
      },
      "outputs": [],
      "source": [
        "from sklearn.model_selection import train_test_split\n",
        "x_train, x_test, y_train, y_test = train_test_split(inp, Y, test_size = 0.3, random_state = 1)"
      ]
    },
    {
      "cell_type": "code",
      "execution_count": null,
      "id": "aa39f76f-ddca-44e5-af56-ff8ce8136f5d",
      "metadata": {
        "id": "aa39f76f-ddca-44e5-af56-ff8ce8136f5d",
        "outputId": "cb567d26-a206-4c1c-f775-1c4b445a3036"
      },
      "outputs": [
        {
          "data": {
            "text/html": [
              "<style>#sk-container-id-1 {color: black;background-color: white;}#sk-container-id-1 pre{padding: 0;}#sk-container-id-1 div.sk-toggleable {background-color: white;}#sk-container-id-1 label.sk-toggleable__label {cursor: pointer;display: block;width: 100%;margin-bottom: 0;padding: 0.3em;box-sizing: border-box;text-align: center;}#sk-container-id-1 label.sk-toggleable__label-arrow:before {content: \"▸\";float: left;margin-right: 0.25em;color: #696969;}#sk-container-id-1 label.sk-toggleable__label-arrow:hover:before {color: black;}#sk-container-id-1 div.sk-estimator:hover label.sk-toggleable__label-arrow:before {color: black;}#sk-container-id-1 div.sk-toggleable__content {max-height: 0;max-width: 0;overflow: hidden;text-align: left;background-color: #f0f8ff;}#sk-container-id-1 div.sk-toggleable__content pre {margin: 0.2em;color: black;border-radius: 0.25em;background-color: #f0f8ff;}#sk-container-id-1 input.sk-toggleable__control:checked~div.sk-toggleable__content {max-height: 200px;max-width: 100%;overflow: auto;}#sk-container-id-1 input.sk-toggleable__control:checked~label.sk-toggleable__label-arrow:before {content: \"▾\";}#sk-container-id-1 div.sk-estimator input.sk-toggleable__control:checked~label.sk-toggleable__label {background-color: #d4ebff;}#sk-container-id-1 div.sk-label input.sk-toggleable__control:checked~label.sk-toggleable__label {background-color: #d4ebff;}#sk-container-id-1 input.sk-hidden--visually {border: 0;clip: rect(1px 1px 1px 1px);clip: rect(1px, 1px, 1px, 1px);height: 1px;margin: -1px;overflow: hidden;padding: 0;position: absolute;width: 1px;}#sk-container-id-1 div.sk-estimator {font-family: monospace;background-color: #f0f8ff;border: 1px dotted black;border-radius: 0.25em;box-sizing: border-box;margin-bottom: 0.5em;}#sk-container-id-1 div.sk-estimator:hover {background-color: #d4ebff;}#sk-container-id-1 div.sk-parallel-item::after {content: \"\";width: 100%;border-bottom: 1px solid gray;flex-grow: 1;}#sk-container-id-1 div.sk-label:hover label.sk-toggleable__label {background-color: #d4ebff;}#sk-container-id-1 div.sk-serial::before {content: \"\";position: absolute;border-left: 1px solid gray;box-sizing: border-box;top: 0;bottom: 0;left: 50%;z-index: 0;}#sk-container-id-1 div.sk-serial {display: flex;flex-direction: column;align-items: center;background-color: white;padding-right: 0.2em;padding-left: 0.2em;position: relative;}#sk-container-id-1 div.sk-item {position: relative;z-index: 1;}#sk-container-id-1 div.sk-parallel {display: flex;align-items: stretch;justify-content: center;background-color: white;position: relative;}#sk-container-id-1 div.sk-item::before, #sk-container-id-1 div.sk-parallel-item::before {content: \"\";position: absolute;border-left: 1px solid gray;box-sizing: border-box;top: 0;bottom: 0;left: 50%;z-index: -1;}#sk-container-id-1 div.sk-parallel-item {display: flex;flex-direction: column;z-index: 1;position: relative;background-color: white;}#sk-container-id-1 div.sk-parallel-item:first-child::after {align-self: flex-end;width: 50%;}#sk-container-id-1 div.sk-parallel-item:last-child::after {align-self: flex-start;width: 50%;}#sk-container-id-1 div.sk-parallel-item:only-child::after {width: 0;}#sk-container-id-1 div.sk-dashed-wrapped {border: 1px dashed gray;margin: 0 0.4em 0.5em 0.4em;box-sizing: border-box;padding-bottom: 0.4em;background-color: white;}#sk-container-id-1 div.sk-label label {font-family: monospace;font-weight: bold;display: inline-block;line-height: 1.2em;}#sk-container-id-1 div.sk-label-container {text-align: center;}#sk-container-id-1 div.sk-container {/* jupyter's `normalize.less` sets `[hidden] { display: none; }` but bootstrap.min.css set `[hidden] { display: none !important; }` so we also need the `!important` here to be able to override the default hidden behavior on the sphinx rendered scikit-learn.org. See: https://github.com/scikit-learn/scikit-learn/issues/21755 */display: inline-block !important;position: relative;}#sk-container-id-1 div.sk-text-repr-fallback {display: none;}</style><div id=\"sk-container-id-1\" class=\"sk-top-container\"><div class=\"sk-text-repr-fallback\"><pre>KNeighborsRegressor(metric=&#x27;euclidean&#x27;, n_neighbors=2)</pre><b>In a Jupyter environment, please rerun this cell to show the HTML representation or trust the notebook. <br />On GitHub, the HTML representation is unable to render, please try loading this page with nbviewer.org.</b></div><div class=\"sk-container\" hidden><div class=\"sk-item\"><div class=\"sk-estimator sk-toggleable\"><input class=\"sk-toggleable__control sk-hidden--visually\" id=\"sk-estimator-id-1\" type=\"checkbox\" checked><label for=\"sk-estimator-id-1\" class=\"sk-toggleable__label sk-toggleable__label-arrow\">KNeighborsRegressor</label><div class=\"sk-toggleable__content\"><pre>KNeighborsRegressor(metric=&#x27;euclidean&#x27;, n_neighbors=2)</pre></div></div></div></div></div>"
            ],
            "text/plain": [
              "KNeighborsRegressor(metric='euclidean', n_neighbors=2)"
            ]
          },
          "execution_count": 6,
          "metadata": {},
          "output_type": "execute_result"
        }
      ],
      "source": [
        "from sklearn.neighbors import KNeighborsRegressor\n",
        "knn = KNeighborsRegressor(n_neighbors = 2, metric = 'euclidean', weights = 'uniform')\n",
        "knn.fit(x_train, y_train)"
      ]
    },
    {
      "cell_type": "code",
      "execution_count": null,
      "id": "c3963af5-d017-4880-b173-d693fa478733",
      "metadata": {
        "id": "c3963af5-d017-4880-b173-d693fa478733"
      },
      "outputs": [],
      "source": [
        "# Crossvalidation\n",
        "\n",
        "Dataset--> 442\n",
        "\n",
        "10 times (folds)\n",
        "P1, P2, ........P10\n",
        "\n",
        "k-fold cross-validation\n",
        "\n",
        "                Fold 1\n",
        "      test -->   P1\n",
        "    train -->    Everything else\n"
      ]
    },
    {
      "cell_type": "code",
      "execution_count": null,
      "id": "5e1e6dc9-ee16-4e84-aae6-b5e7118cdeba",
      "metadata": {
        "id": "5e1e6dc9-ee16-4e84-aae6-b5e7118cdeba",
        "outputId": "5aae9ad0-32d9-4aed-99bc-a3c7b34fdcec"
      },
      "outputs": [
        {
          "data": {
            "text/plain": [
              "array([-5219.01111111, -4806.87777778, -5755.17613636, -7091.73295455,\n",
              "       -5268.0625    , -5442.69886364, -6908.875     , -4876.54545455,\n",
              "       -7353.85795455, -4307.76136364])"
            ]
          },
          "execution_count": 7,
          "metadata": {},
          "output_type": "execute_result"
        }
      ],
      "source": [
        "from sklearn.model_selection import cross_val_score, KFold\n",
        "kf = KFold(n_splits = 10)\n",
        "knn = KNeighborsRegressor(n_neighbors = 2, metric = 'euclidean', weights = 'uniform')\n",
        "cross_val_score(knn, inp, Y, cv = kf, scoring = 'neg_mean_squared_error')"
      ]
    },
    {
      "cell_type": "code",
      "execution_count": null,
      "id": "3a3ea55f-11d2-40b7-a377-3a6490f3151c",
      "metadata": {
        "id": "3a3ea55f-11d2-40b7-a377-3a6490f3151c",
        "outputId": "4779b91b-b927-4214-bffb-e39bcc1c5a8f"
      },
      "outputs": [
        {
          "data": {
            "text/plain": [
              "-5703.059911616163"
            ]
          },
          "execution_count": 9,
          "metadata": {},
          "output_type": "execute_result"
        }
      ],
      "source": [
        "cross_val_score(knn, inp, Y, cv = kf, scoring = 'neg_mean_squared_error').mean()"
      ]
    },
    {
      "cell_type": "code",
      "execution_count": null,
      "id": "c44c6209-c9e7-403b-93b7-6410760177fd",
      "metadata": {
        "id": "c44c6209-c9e7-403b-93b7-6410760177fd",
        "outputId": "7a081c1b-ca12-4682-9061-782a606f04d1"
      },
      "outputs": [
        {
          "data": {
            "text/plain": [
              "-7320.253383838384"
            ]
          },
          "execution_count": 10,
          "metadata": {},
          "output_type": "execute_result"
        }
      ],
      "source": [
        "knn = KNeighborsRegressor(n_neighbors = 1, metric = 'euclidean', weights = 'uniform')\n",
        "cross_val_score(knn, inp, Y, cv = kf, scoring = 'neg_mean_squared_error').mean()"
      ]
    },
    {
      "cell_type": "code",
      "execution_count": null,
      "id": "995d61c2-3f0e-44d1-af46-12febbbf2018",
      "metadata": {
        "id": "995d61c2-3f0e-44d1-af46-12febbbf2018",
        "outputId": "a1445cbb-fe67-493f-dffd-bf20646a1ee3"
      },
      "outputs": [
        {
          "name": "stdout",
          "output_type": "stream",
          "text": [
            "0 (1, manhattan, uniform) --> -7320.253383838384\n",
            "1 (1, manhattan, distance) --> -7320.253383838384\n",
            "2 (1, euclidean, uniform) --> -7320.253383838384\n",
            "3 (1, euclidean, distance) --> -7320.253383838384\n",
            "4 (2, manhattan, uniform) --> -5703.059911616163\n",
            "5 (2, manhattan, distance) --> -6025.151439122315\n",
            "6 (2, euclidean, uniform) --> -5703.059911616163\n",
            "7 (2, euclidean, distance) --> -6025.151439122315\n",
            "8 (3, manhattan, uniform) --> -4986.769264870932\n",
            "9 (3, manhattan, distance) --> -5482.234969415985\n",
            "10 (3, euclidean, uniform) --> -4986.769264870932\n",
            "11 (3, euclidean, distance) --> -5482.234969415985\n",
            "12 (4, manhattan, uniform) --> -4709.201944444445\n",
            "13 (4, manhattan, distance) --> -5300.528706884778\n",
            "14 (4, euclidean, uniform) --> -4709.201944444445\n",
            "15 (4, euclidean, distance) --> -5300.528706884778\n",
            "16 (5, manhattan, uniform) --> -4517.772365656565\n",
            "17 (5, manhattan, distance) --> -5278.9742351631885\n",
            "18 (5, euclidean, uniform) --> -4517.772365656565\n",
            "19 (5, euclidean, distance) --> -5278.9742351631885\n",
            "20 (6, manhattan, uniform) --> -4445.849315375983\n",
            "21 (6, manhattan, distance) --> -5272.221956211228\n",
            "22 (6, euclidean, uniform) --> -4445.849315375983\n",
            "23 (6, euclidean, distance) --> -5272.221956211228\n",
            "24 (7, manhattan, uniform) --> -4340.223379715522\n",
            "25 (7, manhattan, distance) --> -5252.801719351586\n",
            "26 (7, euclidean, uniform) --> -4340.223379715522\n",
            "27 (7, euclidean, distance) --> -5252.801719351586\n",
            "28 (8, manhattan, uniform) --> -4268.512553661616\n",
            "29 (8, manhattan, distance) --> -5255.239299045386\n",
            "30 (8, euclidean, uniform) --> -4268.512553661616\n",
            "31 (8, euclidean, distance) --> -5255.239299045386\n",
            "32 (9, manhattan, uniform) --> -4193.6431144781145\n",
            "33 (9, manhattan, distance) --> -5236.661557407445\n",
            "34 (9, euclidean, uniform) --> -4193.6431144781145\n",
            "35 (9, euclidean, distance) --> -5236.661557407445\n",
            "36 (10, manhattan, uniform) --> -4194.00449090909\n",
            "37 (10, manhattan, distance) --> -5236.190313471605\n",
            "38 (10, euclidean, uniform) --> -4194.00449090909\n",
            "39 (10, euclidean, distance) --> -5236.190313471605\n",
            "40 (11, manhattan, uniform) --> -4129.014265381083\n",
            "41 (11, manhattan, distance) --> -5232.646224854219\n",
            "42 (11, euclidean, uniform) --> -4129.014265381083\n",
            "43 (11, euclidean, distance) --> -5232.646224854219\n",
            "44 (12, manhattan, uniform) --> -4162.982146113916\n",
            "45 (12, manhattan, distance) --> -5235.645795534113\n",
            "46 (12, euclidean, uniform) --> -4162.982146113916\n",
            "47 (12, euclidean, distance) --> -5235.645795534113\n",
            "48 (13, manhattan, uniform) --> -4104.6324786324785\n",
            "49 (13, manhattan, distance) --> -5226.464060621343\n",
            "50 (13, euclidean, uniform) --> -4104.6324786324785\n",
            "51 (13, euclidean, distance) --> -5226.464060621343\n",
            "52 (14, manhattan, uniform) --> -4070.0447433518866\n",
            "53 (14, manhattan, distance) --> -5218.720176827842\n",
            "54 (14, euclidean, uniform) --> -4070.0447433518866\n",
            "55 (14, euclidean, distance) --> -5218.720176827842\n",
            "56 (15, manhattan, uniform) --> -4055.5620498316493\n",
            "57 (15, manhattan, distance) --> -5217.6156193273855\n",
            "58 (15, euclidean, uniform) --> -4055.5620498316493\n",
            "59 (15, euclidean, distance) --> -5217.6156193273855\n",
            "60 (16, manhattan, uniform) --> -4009.7722068339654\n",
            "61 (16, manhattan, distance) --> -5217.881988400419\n",
            "62 (16, euclidean, uniform) --> -4009.7722068339654\n",
            "63 (16, euclidean, distance) --> -5217.881988400419\n",
            "64 (17, manhattan, uniform) --> -4022.323030303031\n",
            "65 (17, manhattan, distance) --> -5214.2773695430715\n",
            "66 (17, euclidean, uniform) --> -4022.323030303031\n",
            "67 (17, euclidean, distance) --> -5214.2773695430715\n",
            "68 (18, manhattan, uniform) --> -4033.6337920875426\n",
            "69 (18, manhattan, distance) --> -5220.034848128494\n",
            "70 (18, euclidean, uniform) --> -4033.6337920875426\n",
            "71 (18, euclidean, distance) --> -5220.034848128494\n",
            "72 (19, manhattan, uniform) --> -4026.1849504742722\n",
            "73 (19, manhattan, distance) --> -5213.158584069954\n",
            "74 (19, euclidean, uniform) --> -4026.1849504742722\n",
            "75 (19, euclidean, distance) --> -5213.158584069954\n",
            "76 (20, manhattan, uniform) --> -4000.066466161616\n",
            "77 (20, manhattan, distance) --> -5210.88736417133\n",
            "78 (20, euclidean, uniform) --> -4000.066466161616\n",
            "79 (20, euclidean, distance) --> -5210.88736417133\n",
            "80 (21, manhattan, uniform) --> -3975.4928482099917\n",
            "81 (21, manhattan, distance) --> -5212.088893301843\n",
            "82 (21, euclidean, uniform) --> -3975.4928482099917\n",
            "83 (21, euclidean, distance) --> -5212.088893301843\n",
            "84 (22, manhattan, uniform) --> -3981.6971389514983\n",
            "85 (22, manhattan, distance) --> -5213.4405188455385\n",
            "86 (22, euclidean, uniform) --> -3981.6971389514983\n",
            "87 (22, euclidean, distance) --> -5213.4405188455385\n",
            "88 (23, manhattan, uniform) --> -3977.930239350022\n",
            "89 (23, manhattan, distance) --> -5215.4359007160465\n",
            "90 (23, euclidean, uniform) --> -3977.930239350022\n",
            "91 (23, euclidean, distance) --> -5215.4359007160465\n",
            "92 (24, manhattan, uniform) --> -4001.320084350449\n",
            "93 (24, manhattan, distance) --> -5216.631648338842\n",
            "94 (24, euclidean, uniform) --> -4001.320084350449\n",
            "95 (24, euclidean, distance) --> -5216.631648338842\n",
            "96 (25, manhattan, uniform) --> -4005.3676853333336\n",
            "97 (25, manhattan, distance) --> -5215.2573735260785\n",
            "98 (25, euclidean, uniform) --> -4005.3676853333336\n",
            "99 (25, euclidean, distance) --> -5215.2573735260785\n",
            "100 (26, manhattan, uniform) --> -3992.0596064192214\n",
            "101 (26, manhattan, distance) --> -5211.364984949405\n",
            "102 (26, euclidean, uniform) --> -3992.0596064192214\n",
            "103 (26, euclidean, distance) --> -5211.364984949405\n",
            "104 (27, manhattan, uniform) --> -3973.8861598841636\n",
            "105 (27, manhattan, distance) --> -5212.283482028318\n",
            "106 (27, euclidean, uniform) --> -3973.8861598841636\n",
            "107 (27, euclidean, distance) --> -5212.283482028318\n",
            "108 (28, manhattan, uniform) --> -3988.200610119048\n",
            "109 (28, manhattan, distance) --> -5214.028418345449\n",
            "110 (28, euclidean, uniform) --> -3988.200610119048\n",
            "111 (28, euclidean, distance) --> -5214.028418345449\n",
            "112 (29, manhattan, uniform) --> -3983.6316998762886\n",
            "113 (29, manhattan, distance) --> -5213.725625737007\n",
            "114 (29, euclidean, uniform) --> -3983.6316998762886\n",
            "115 (29, euclidean, distance) --> -5213.725625737007\n",
            "116 (30, manhattan, uniform) --> -3993.603880415264\n",
            "117 (30, manhattan, distance) --> -5217.648405426181\n",
            "118 (30, euclidean, uniform) --> -3993.603880415264\n",
            "119 (30, euclidean, distance) --> -5217.648405426181\n"
          ]
        }
      ],
      "source": [
        "from sklearn.model_selection import cross_val_score, KFold\n",
        "kf = KFold(n_splits = 10)\n",
        "cvs = []\n",
        "c = 0\n",
        "\n",
        "for k in range(1, 31):# n_neighbors\n",
        "    for met in ['manhattan', 'euclidean']:\n",
        "        for typ in ['uniform','distance']:\n",
        "            knn = KNeighborsRegressor(n_neighbors = k, metric = met, weights = typ)\n",
        "            cvs.append(cross_val_score(knn, inp, Y, cv = kf, scoring = 'neg_mean_squared_error').mean())\n",
        "            print(c, ' (', k,', ' ,met,', ', typ, ') --> ', cvs[c], sep = '')\n",
        "            c = c + 1"
      ]
    },
    {
      "cell_type": "code",
      "execution_count": null,
      "id": "41c8121c-71a8-4585-b18f-506830432743",
      "metadata": {
        "id": "41c8121c-71a8-4585-b18f-506830432743",
        "outputId": "2e5b11b7-60cd-446d-d541-d3faf7652db6"
      },
      "outputs": [
        {
          "data": {
            "text/plain": [
              "-3973.8861598841636"
            ]
          },
          "execution_count": 21,
          "metadata": {},
          "output_type": "execute_result"
        }
      ],
      "source": [
        "max(cvs)"
      ]
    },
    {
      "cell_type": "code",
      "execution_count": null,
      "id": "fe5f339e-00d7-4733-b7a5-66163109f9b7",
      "metadata": {
        "id": "fe5f339e-00d7-4733-b7a5-66163109f9b7",
        "outputId": "a5c47030-668b-4af6-bbf1-df31687d40e5"
      },
      "outputs": [
        {
          "data": {
            "text/plain": [
              "104"
            ]
          },
          "execution_count": 22,
          "metadata": {},
          "output_type": "execute_result"
        }
      ],
      "source": [
        "cvs.index(max(cvs))"
      ]
    },
    {
      "cell_type": "code",
      "execution_count": null,
      "id": "ec236204-7a23-48dc-8cef-7471304dccca",
      "metadata": {
        "id": "ec236204-7a23-48dc-8cef-7471304dccca",
        "outputId": "a3ede4ee-209d-4500-8798-25a0448499be"
      },
      "outputs": [
        {
          "data": {
            "text/html": [
              "<style>#sk-container-id-2 {color: black;background-color: white;}#sk-container-id-2 pre{padding: 0;}#sk-container-id-2 div.sk-toggleable {background-color: white;}#sk-container-id-2 label.sk-toggleable__label {cursor: pointer;display: block;width: 100%;margin-bottom: 0;padding: 0.3em;box-sizing: border-box;text-align: center;}#sk-container-id-2 label.sk-toggleable__label-arrow:before {content: \"▸\";float: left;margin-right: 0.25em;color: #696969;}#sk-container-id-2 label.sk-toggleable__label-arrow:hover:before {color: black;}#sk-container-id-2 div.sk-estimator:hover label.sk-toggleable__label-arrow:before {color: black;}#sk-container-id-2 div.sk-toggleable__content {max-height: 0;max-width: 0;overflow: hidden;text-align: left;background-color: #f0f8ff;}#sk-container-id-2 div.sk-toggleable__content pre {margin: 0.2em;color: black;border-radius: 0.25em;background-color: #f0f8ff;}#sk-container-id-2 input.sk-toggleable__control:checked~div.sk-toggleable__content {max-height: 200px;max-width: 100%;overflow: auto;}#sk-container-id-2 input.sk-toggleable__control:checked~label.sk-toggleable__label-arrow:before {content: \"▾\";}#sk-container-id-2 div.sk-estimator input.sk-toggleable__control:checked~label.sk-toggleable__label {background-color: #d4ebff;}#sk-container-id-2 div.sk-label input.sk-toggleable__control:checked~label.sk-toggleable__label {background-color: #d4ebff;}#sk-container-id-2 input.sk-hidden--visually {border: 0;clip: rect(1px 1px 1px 1px);clip: rect(1px, 1px, 1px, 1px);height: 1px;margin: -1px;overflow: hidden;padding: 0;position: absolute;width: 1px;}#sk-container-id-2 div.sk-estimator {font-family: monospace;background-color: #f0f8ff;border: 1px dotted black;border-radius: 0.25em;box-sizing: border-box;margin-bottom: 0.5em;}#sk-container-id-2 div.sk-estimator:hover {background-color: #d4ebff;}#sk-container-id-2 div.sk-parallel-item::after {content: \"\";width: 100%;border-bottom: 1px solid gray;flex-grow: 1;}#sk-container-id-2 div.sk-label:hover label.sk-toggleable__label {background-color: #d4ebff;}#sk-container-id-2 div.sk-serial::before {content: \"\";position: absolute;border-left: 1px solid gray;box-sizing: border-box;top: 0;bottom: 0;left: 50%;z-index: 0;}#sk-container-id-2 div.sk-serial {display: flex;flex-direction: column;align-items: center;background-color: white;padding-right: 0.2em;padding-left: 0.2em;position: relative;}#sk-container-id-2 div.sk-item {position: relative;z-index: 1;}#sk-container-id-2 div.sk-parallel {display: flex;align-items: stretch;justify-content: center;background-color: white;position: relative;}#sk-container-id-2 div.sk-item::before, #sk-container-id-2 div.sk-parallel-item::before {content: \"\";position: absolute;border-left: 1px solid gray;box-sizing: border-box;top: 0;bottom: 0;left: 50%;z-index: -1;}#sk-container-id-2 div.sk-parallel-item {display: flex;flex-direction: column;z-index: 1;position: relative;background-color: white;}#sk-container-id-2 div.sk-parallel-item:first-child::after {align-self: flex-end;width: 50%;}#sk-container-id-2 div.sk-parallel-item:last-child::after {align-self: flex-start;width: 50%;}#sk-container-id-2 div.sk-parallel-item:only-child::after {width: 0;}#sk-container-id-2 div.sk-dashed-wrapped {border: 1px dashed gray;margin: 0 0.4em 0.5em 0.4em;box-sizing: border-box;padding-bottom: 0.4em;background-color: white;}#sk-container-id-2 div.sk-label label {font-family: monospace;font-weight: bold;display: inline-block;line-height: 1.2em;}#sk-container-id-2 div.sk-label-container {text-align: center;}#sk-container-id-2 div.sk-container {/* jupyter's `normalize.less` sets `[hidden] { display: none; }` but bootstrap.min.css set `[hidden] { display: none !important; }` so we also need the `!important` here to be able to override the default hidden behavior on the sphinx rendered scikit-learn.org. See: https://github.com/scikit-learn/scikit-learn/issues/21755 */display: inline-block !important;position: relative;}#sk-container-id-2 div.sk-text-repr-fallback {display: none;}</style><div id=\"sk-container-id-2\" class=\"sk-top-container\"><div class=\"sk-text-repr-fallback\"><pre>GridSearchCV(cv=KFold(n_splits=10, random_state=None, shuffle=False),\n",
              "             estimator=KNeighborsRegressor(),\n",
              "             param_grid={&#x27;metric&#x27;: [&#x27;manhattan&#x27;, &#x27;euclidean&#x27;],\n",
              "                         &#x27;n_neighbors&#x27;: range(1, 31),\n",
              "                         &#x27;weights&#x27;: [&#x27;uniform&#x27;, &#x27;distance&#x27;]},\n",
              "             scoring=&#x27;neg_mean_squared_error&#x27;)</pre><b>In a Jupyter environment, please rerun this cell to show the HTML representation or trust the notebook. <br />On GitHub, the HTML representation is unable to render, please try loading this page with nbviewer.org.</b></div><div class=\"sk-container\" hidden><div class=\"sk-item sk-dashed-wrapped\"><div class=\"sk-label-container\"><div class=\"sk-label sk-toggleable\"><input class=\"sk-toggleable__control sk-hidden--visually\" id=\"sk-estimator-id-2\" type=\"checkbox\" ><label for=\"sk-estimator-id-2\" class=\"sk-toggleable__label sk-toggleable__label-arrow\">GridSearchCV</label><div class=\"sk-toggleable__content\"><pre>GridSearchCV(cv=KFold(n_splits=10, random_state=None, shuffle=False),\n",
              "             estimator=KNeighborsRegressor(),\n",
              "             param_grid={&#x27;metric&#x27;: [&#x27;manhattan&#x27;, &#x27;euclidean&#x27;],\n",
              "                         &#x27;n_neighbors&#x27;: range(1, 31),\n",
              "                         &#x27;weights&#x27;: [&#x27;uniform&#x27;, &#x27;distance&#x27;]},\n",
              "             scoring=&#x27;neg_mean_squared_error&#x27;)</pre></div></div></div><div class=\"sk-parallel\"><div class=\"sk-parallel-item\"><div class=\"sk-item\"><div class=\"sk-label-container\"><div class=\"sk-label sk-toggleable\"><input class=\"sk-toggleable__control sk-hidden--visually\" id=\"sk-estimator-id-3\" type=\"checkbox\" ><label for=\"sk-estimator-id-3\" class=\"sk-toggleable__label sk-toggleable__label-arrow\">estimator: KNeighborsRegressor</label><div class=\"sk-toggleable__content\"><pre>KNeighborsRegressor()</pre></div></div></div><div class=\"sk-serial\"><div class=\"sk-item\"><div class=\"sk-estimator sk-toggleable\"><input class=\"sk-toggleable__control sk-hidden--visually\" id=\"sk-estimator-id-4\" type=\"checkbox\" ><label for=\"sk-estimator-id-4\" class=\"sk-toggleable__label sk-toggleable__label-arrow\">KNeighborsRegressor</label><div class=\"sk-toggleable__content\"><pre>KNeighborsRegressor()</pre></div></div></div></div></div></div></div></div></div></div>"
            ],
            "text/plain": [
              "GridSearchCV(cv=KFold(n_splits=10, random_state=None, shuffle=False),\n",
              "             estimator=KNeighborsRegressor(),\n",
              "             param_grid={'metric': ['manhattan', 'euclidean'],\n",
              "                         'n_neighbors': range(1, 31),\n",
              "                         'weights': ['uniform', 'distance']},\n",
              "             scoring='neg_mean_squared_error')"
            ]
          },
          "execution_count": 18,
          "metadata": {},
          "output_type": "execute_result"
        }
      ],
      "source": [
        "from sklearn.model_selection import GridSearchCV, KFold\n",
        "kf = KFold(n_splits = 10)\n",
        "model = KNeighborsRegressor()\n",
        "hyper_params = {'n_neighbors':range(1,31),\n",
        "                'metric':['manhattan','euclidean'],\n",
        "                'weights':['uniform', 'distance']\n",
        "               }\n",
        "\n",
        "gcv = GridSearchCV(model, param_grid = hyper_params, cv = kf, scoring = 'neg_mean_squared_error')\n",
        "gcv.fit(inp, Y)"
      ]
    },
    {
      "cell_type": "code",
      "execution_count": null,
      "id": "45d00ec3-ad18-4050-b67a-a6e1d4fccfcb",
      "metadata": {
        "id": "45d00ec3-ad18-4050-b67a-a6e1d4fccfcb",
        "outputId": "2c462c94-03ec-4030-91ec-e028d40dd904"
      },
      "outputs": [
        {
          "data": {
            "text/plain": [
              "{'metric': 'manhattan', 'n_neighbors': 27, 'weights': 'uniform'}"
            ]
          },
          "execution_count": 19,
          "metadata": {},
          "output_type": "execute_result"
        }
      ],
      "source": [
        "gcv.best_params_"
      ]
    },
    {
      "cell_type": "code",
      "execution_count": null,
      "id": "269f132f-e0b7-41a1-835e-565277dc03cd",
      "metadata": {
        "id": "269f132f-e0b7-41a1-835e-565277dc03cd",
        "outputId": "4e727043-a904-471f-dcae-754c294bb03d"
      },
      "outputs": [
        {
          "data": {
            "text/plain": [
              "-3973.8861598841636"
            ]
          },
          "execution_count": 23,
          "metadata": {},
          "output_type": "execute_result"
        }
      ],
      "source": [
        "gcv.best_score_"
      ]
    },
    {
      "cell_type": "code",
      "execution_count": null,
      "id": "b74b97d4-b203-47ed-9562-3ff1275a13d5",
      "metadata": {
        "id": "b74b97d4-b203-47ed-9562-3ff1275a13d5",
        "outputId": "c26baf39-eb59-45bc-c91a-20df0624db49"
      },
      "outputs": [
        {
          "data": {
            "text/plain": [
              "{'weights': 'uniform', 'n_neighbors': 22, 'metric': 'euclidean'}"
            ]
          },
          "execution_count": 27,
          "metadata": {},
          "output_type": "execute_result"
        }
      ],
      "source": [
        "from sklearn.model_selection import RandomizedSearchCV, KFold\n",
        "kf = KFold(n_splits = 10)\n",
        "model = KNeighborsRegressor()\n",
        "hyper_params = {'n_neighbors':range(1,31),\n",
        "                'metric':['manhattan','euclidean'],\n",
        "                'weights':['uniform', 'distance']\n",
        "               }\n",
        "\n",
        "rcv = RandomizedSearchCV(model, param_distributions = hyper_params, cv = kf, scoring = 'neg_mean_squared_error')\n",
        "rcv.fit(inp, Y)\n",
        "rcv.best_params_"
      ]
    },
    {
      "cell_type": "code",
      "execution_count": null,
      "id": "b983dc78-dcee-43a7-b436-f98ef5a15a19",
      "metadata": {
        "id": "b983dc78-dcee-43a7-b436-f98ef5a15a19",
        "outputId": "4c6070d3-b8af-46cc-90fb-373c96536dd8"
      },
      "outputs": [
        {
          "data": {
            "text/plain": [
              "-3981.6971389514983"
            ]
          },
          "execution_count": 28,
          "metadata": {},
          "output_type": "execute_result"
        }
      ],
      "source": [
        "rcv.best_score_"
      ]
    },
    {
      "cell_type": "code",
      "execution_count": null,
      "id": "4e9d30f1-6271-45e4-88c4-7ad0081875da",
      "metadata": {
        "id": "4e9d30f1-6271-45e4-88c4-7ad0081875da",
        "outputId": "c1d4b7c6-6ce0-4e5b-9a5c-461c17899eaf"
      },
      "outputs": [
        {
          "data": {
            "text/html": [
              "<style>#sk-container-id-3 {color: black;background-color: white;}#sk-container-id-3 pre{padding: 0;}#sk-container-id-3 div.sk-toggleable {background-color: white;}#sk-container-id-3 label.sk-toggleable__label {cursor: pointer;display: block;width: 100%;margin-bottom: 0;padding: 0.3em;box-sizing: border-box;text-align: center;}#sk-container-id-3 label.sk-toggleable__label-arrow:before {content: \"▸\";float: left;margin-right: 0.25em;color: #696969;}#sk-container-id-3 label.sk-toggleable__label-arrow:hover:before {color: black;}#sk-container-id-3 div.sk-estimator:hover label.sk-toggleable__label-arrow:before {color: black;}#sk-container-id-3 div.sk-toggleable__content {max-height: 0;max-width: 0;overflow: hidden;text-align: left;background-color: #f0f8ff;}#sk-container-id-3 div.sk-toggleable__content pre {margin: 0.2em;color: black;border-radius: 0.25em;background-color: #f0f8ff;}#sk-container-id-3 input.sk-toggleable__control:checked~div.sk-toggleable__content {max-height: 200px;max-width: 100%;overflow: auto;}#sk-container-id-3 input.sk-toggleable__control:checked~label.sk-toggleable__label-arrow:before {content: \"▾\";}#sk-container-id-3 div.sk-estimator input.sk-toggleable__control:checked~label.sk-toggleable__label {background-color: #d4ebff;}#sk-container-id-3 div.sk-label input.sk-toggleable__control:checked~label.sk-toggleable__label {background-color: #d4ebff;}#sk-container-id-3 input.sk-hidden--visually {border: 0;clip: rect(1px 1px 1px 1px);clip: rect(1px, 1px, 1px, 1px);height: 1px;margin: -1px;overflow: hidden;padding: 0;position: absolute;width: 1px;}#sk-container-id-3 div.sk-estimator {font-family: monospace;background-color: #f0f8ff;border: 1px dotted black;border-radius: 0.25em;box-sizing: border-box;margin-bottom: 0.5em;}#sk-container-id-3 div.sk-estimator:hover {background-color: #d4ebff;}#sk-container-id-3 div.sk-parallel-item::after {content: \"\";width: 100%;border-bottom: 1px solid gray;flex-grow: 1;}#sk-container-id-3 div.sk-label:hover label.sk-toggleable__label {background-color: #d4ebff;}#sk-container-id-3 div.sk-serial::before {content: \"\";position: absolute;border-left: 1px solid gray;box-sizing: border-box;top: 0;bottom: 0;left: 50%;z-index: 0;}#sk-container-id-3 div.sk-serial {display: flex;flex-direction: column;align-items: center;background-color: white;padding-right: 0.2em;padding-left: 0.2em;position: relative;}#sk-container-id-3 div.sk-item {position: relative;z-index: 1;}#sk-container-id-3 div.sk-parallel {display: flex;align-items: stretch;justify-content: center;background-color: white;position: relative;}#sk-container-id-3 div.sk-item::before, #sk-container-id-3 div.sk-parallel-item::before {content: \"\";position: absolute;border-left: 1px solid gray;box-sizing: border-box;top: 0;bottom: 0;left: 50%;z-index: -1;}#sk-container-id-3 div.sk-parallel-item {display: flex;flex-direction: column;z-index: 1;position: relative;background-color: white;}#sk-container-id-3 div.sk-parallel-item:first-child::after {align-self: flex-end;width: 50%;}#sk-container-id-3 div.sk-parallel-item:last-child::after {align-self: flex-start;width: 50%;}#sk-container-id-3 div.sk-parallel-item:only-child::after {width: 0;}#sk-container-id-3 div.sk-dashed-wrapped {border: 1px dashed gray;margin: 0 0.4em 0.5em 0.4em;box-sizing: border-box;padding-bottom: 0.4em;background-color: white;}#sk-container-id-3 div.sk-label label {font-family: monospace;font-weight: bold;display: inline-block;line-height: 1.2em;}#sk-container-id-3 div.sk-label-container {text-align: center;}#sk-container-id-3 div.sk-container {/* jupyter's `normalize.less` sets `[hidden] { display: none; }` but bootstrap.min.css set `[hidden] { display: none !important; }` so we also need the `!important` here to be able to override the default hidden behavior on the sphinx rendered scikit-learn.org. See: https://github.com/scikit-learn/scikit-learn/issues/21755 */display: inline-block !important;position: relative;}#sk-container-id-3 div.sk-text-repr-fallback {display: none;}</style><div id=\"sk-container-id-3\" class=\"sk-top-container\"><div class=\"sk-text-repr-fallback\"><pre>StandardScaler()</pre><b>In a Jupyter environment, please rerun this cell to show the HTML representation or trust the notebook. <br />On GitHub, the HTML representation is unable to render, please try loading this page with nbviewer.org.</b></div><div class=\"sk-container\" hidden><div class=\"sk-item\"><div class=\"sk-estimator sk-toggleable\"><input class=\"sk-toggleable__control sk-hidden--visually\" id=\"sk-estimator-id-5\" type=\"checkbox\" checked><label for=\"sk-estimator-id-5\" class=\"sk-toggleable__label sk-toggleable__label-arrow\">StandardScaler</label><div class=\"sk-toggleable__content\"><pre>StandardScaler()</pre></div></div></div></div></div>"
            ],
            "text/plain": [
              "StandardScaler()"
            ]
          },
          "execution_count": 31,
          "metadata": {},
          "output_type": "execute_result"
        }
      ],
      "source": [
        "data = np.array([1,2,3,4,5])\n",
        "\n",
        "# Standardization\n",
        "from sklearn.preprocessing import StandardScaler\n",
        "ss = StandardScaler()\n",
        "ss.fit(data.reshape(-1,1))"
      ]
    },
    {
      "cell_type": "code",
      "execution_count": null,
      "id": "123cf508-b949-4635-a598-5d018ce33d07",
      "metadata": {
        "id": "123cf508-b949-4635-a598-5d018ce33d07",
        "outputId": "39f9f25e-0569-4b70-8a3f-0e66ba242686"
      },
      "outputs": [
        {
          "data": {
            "text/plain": [
              "array([[-1.41421356],\n",
              "       [-0.70710678],\n",
              "       [ 0.        ],\n",
              "       [ 0.70710678],\n",
              "       [ 1.41421356]])"
            ]
          },
          "execution_count": 32,
          "metadata": {},
          "output_type": "execute_result"
        }
      ],
      "source": [
        "ss.transform(data.reshape(-1,1))"
      ]
    },
    {
      "cell_type": "code",
      "execution_count": null,
      "id": "6285ba3c-4fa5-4b0e-8d84-ea3fdce74305",
      "metadata": {
        "id": "6285ba3c-4fa5-4b0e-8d84-ea3fdce74305",
        "outputId": "4faf5ab4-6c79-40fc-a0b4-2c5798e4adab"
      },
      "outputs": [
        {
          "data": {
            "text/plain": [
              "array([[-5. ],\n",
              "       [-2.5],\n",
              "       [ 0. ],\n",
              "       [ 2.5],\n",
              "       [ 5. ]])"
            ]
          },
          "execution_count": 35,
          "metadata": {},
          "output_type": "execute_result"
        }
      ],
      "source": [
        "# Normalization\n",
        "from sklearn.preprocessing import MinMaxScaler\n",
        "mm = MinMaxScaler(feature_range = (-5,5))\n",
        "mm.fit(data.reshape(-1,1))\n",
        "mm.transform(data.reshape(-1,1))"
      ]
    },
    {
      "cell_type": "code",
      "execution_count": null,
      "id": "e910aab6-5d17-4401-99a6-c71195c28113",
      "metadata": {
        "id": "e910aab6-5d17-4401-99a6-c71195c28113",
        "outputId": "a2ed6eec-3d5f-4e3f-debb-1059b0f1e3c8"
      },
      "outputs": [
        {
          "data": {
            "text/html": [
              "<style>#sk-container-id-4 {color: black;background-color: white;}#sk-container-id-4 pre{padding: 0;}#sk-container-id-4 div.sk-toggleable {background-color: white;}#sk-container-id-4 label.sk-toggleable__label {cursor: pointer;display: block;width: 100%;margin-bottom: 0;padding: 0.3em;box-sizing: border-box;text-align: center;}#sk-container-id-4 label.sk-toggleable__label-arrow:before {content: \"▸\";float: left;margin-right: 0.25em;color: #696969;}#sk-container-id-4 label.sk-toggleable__label-arrow:hover:before {color: black;}#sk-container-id-4 div.sk-estimator:hover label.sk-toggleable__label-arrow:before {color: black;}#sk-container-id-4 div.sk-toggleable__content {max-height: 0;max-width: 0;overflow: hidden;text-align: left;background-color: #f0f8ff;}#sk-container-id-4 div.sk-toggleable__content pre {margin: 0.2em;color: black;border-radius: 0.25em;background-color: #f0f8ff;}#sk-container-id-4 input.sk-toggleable__control:checked~div.sk-toggleable__content {max-height: 200px;max-width: 100%;overflow: auto;}#sk-container-id-4 input.sk-toggleable__control:checked~label.sk-toggleable__label-arrow:before {content: \"▾\";}#sk-container-id-4 div.sk-estimator input.sk-toggleable__control:checked~label.sk-toggleable__label {background-color: #d4ebff;}#sk-container-id-4 div.sk-label input.sk-toggleable__control:checked~label.sk-toggleable__label {background-color: #d4ebff;}#sk-container-id-4 input.sk-hidden--visually {border: 0;clip: rect(1px 1px 1px 1px);clip: rect(1px, 1px, 1px, 1px);height: 1px;margin: -1px;overflow: hidden;padding: 0;position: absolute;width: 1px;}#sk-container-id-4 div.sk-estimator {font-family: monospace;background-color: #f0f8ff;border: 1px dotted black;border-radius: 0.25em;box-sizing: border-box;margin-bottom: 0.5em;}#sk-container-id-4 div.sk-estimator:hover {background-color: #d4ebff;}#sk-container-id-4 div.sk-parallel-item::after {content: \"\";width: 100%;border-bottom: 1px solid gray;flex-grow: 1;}#sk-container-id-4 div.sk-label:hover label.sk-toggleable__label {background-color: #d4ebff;}#sk-container-id-4 div.sk-serial::before {content: \"\";position: absolute;border-left: 1px solid gray;box-sizing: border-box;top: 0;bottom: 0;left: 50%;z-index: 0;}#sk-container-id-4 div.sk-serial {display: flex;flex-direction: column;align-items: center;background-color: white;padding-right: 0.2em;padding-left: 0.2em;position: relative;}#sk-container-id-4 div.sk-item {position: relative;z-index: 1;}#sk-container-id-4 div.sk-parallel {display: flex;align-items: stretch;justify-content: center;background-color: white;position: relative;}#sk-container-id-4 div.sk-item::before, #sk-container-id-4 div.sk-parallel-item::before {content: \"\";position: absolute;border-left: 1px solid gray;box-sizing: border-box;top: 0;bottom: 0;left: 50%;z-index: -1;}#sk-container-id-4 div.sk-parallel-item {display: flex;flex-direction: column;z-index: 1;position: relative;background-color: white;}#sk-container-id-4 div.sk-parallel-item:first-child::after {align-self: flex-end;width: 50%;}#sk-container-id-4 div.sk-parallel-item:last-child::after {align-self: flex-start;width: 50%;}#sk-container-id-4 div.sk-parallel-item:only-child::after {width: 0;}#sk-container-id-4 div.sk-dashed-wrapped {border: 1px dashed gray;margin: 0 0.4em 0.5em 0.4em;box-sizing: border-box;padding-bottom: 0.4em;background-color: white;}#sk-container-id-4 div.sk-label label {font-family: monospace;font-weight: bold;display: inline-block;line-height: 1.2em;}#sk-container-id-4 div.sk-label-container {text-align: center;}#sk-container-id-4 div.sk-container {/* jupyter's `normalize.less` sets `[hidden] { display: none; }` but bootstrap.min.css set `[hidden] { display: none !important; }` so we also need the `!important` here to be able to override the default hidden behavior on the sphinx rendered scikit-learn.org. See: https://github.com/scikit-learn/scikit-learn/issues/21755 */display: inline-block !important;position: relative;}#sk-container-id-4 div.sk-text-repr-fallback {display: none;}</style><div id=\"sk-container-id-4\" class=\"sk-top-container\"><div class=\"sk-text-repr-fallback\"><pre>GridSearchCV(cv=KFold(n_splits=10, random_state=None, shuffle=False),\n",
              "             estimator=Pipeline(steps=[(&#x27;mm&#x27;, MinMaxScaler()),\n",
              "                                       (&#x27;knn&#x27;, KNeighborsRegressor())]),\n",
              "             param_grid={&#x27;knn__metric&#x27;: [&#x27;manhattan&#x27;, &#x27;euclidean&#x27;],\n",
              "                         &#x27;knn__n_neighbors&#x27;: range(1, 31),\n",
              "                         &#x27;knn__weights&#x27;: [&#x27;uniform&#x27;, &#x27;distance&#x27;]},\n",
              "             scoring=&#x27;neg_mean_squared_error&#x27;)</pre><b>In a Jupyter environment, please rerun this cell to show the HTML representation or trust the notebook. <br />On GitHub, the HTML representation is unable to render, please try loading this page with nbviewer.org.</b></div><div class=\"sk-container\" hidden><div class=\"sk-item sk-dashed-wrapped\"><div class=\"sk-label-container\"><div class=\"sk-label sk-toggleable\"><input class=\"sk-toggleable__control sk-hidden--visually\" id=\"sk-estimator-id-6\" type=\"checkbox\" ><label for=\"sk-estimator-id-6\" class=\"sk-toggleable__label sk-toggleable__label-arrow\">GridSearchCV</label><div class=\"sk-toggleable__content\"><pre>GridSearchCV(cv=KFold(n_splits=10, random_state=None, shuffle=False),\n",
              "             estimator=Pipeline(steps=[(&#x27;mm&#x27;, MinMaxScaler()),\n",
              "                                       (&#x27;knn&#x27;, KNeighborsRegressor())]),\n",
              "             param_grid={&#x27;knn__metric&#x27;: [&#x27;manhattan&#x27;, &#x27;euclidean&#x27;],\n",
              "                         &#x27;knn__n_neighbors&#x27;: range(1, 31),\n",
              "                         &#x27;knn__weights&#x27;: [&#x27;uniform&#x27;, &#x27;distance&#x27;]},\n",
              "             scoring=&#x27;neg_mean_squared_error&#x27;)</pre></div></div></div><div class=\"sk-parallel\"><div class=\"sk-parallel-item\"><div class=\"sk-item\"><div class=\"sk-label-container\"><div class=\"sk-label sk-toggleable\"><input class=\"sk-toggleable__control sk-hidden--visually\" id=\"sk-estimator-id-7\" type=\"checkbox\" ><label for=\"sk-estimator-id-7\" class=\"sk-toggleable__label sk-toggleable__label-arrow\">estimator: Pipeline</label><div class=\"sk-toggleable__content\"><pre>Pipeline(steps=[(&#x27;mm&#x27;, MinMaxScaler()), (&#x27;knn&#x27;, KNeighborsRegressor())])</pre></div></div></div><div class=\"sk-serial\"><div class=\"sk-item\"><div class=\"sk-serial\"><div class=\"sk-item\"><div class=\"sk-estimator sk-toggleable\"><input class=\"sk-toggleable__control sk-hidden--visually\" id=\"sk-estimator-id-8\" type=\"checkbox\" ><label for=\"sk-estimator-id-8\" class=\"sk-toggleable__label sk-toggleable__label-arrow\">MinMaxScaler</label><div class=\"sk-toggleable__content\"><pre>MinMaxScaler()</pre></div></div></div><div class=\"sk-item\"><div class=\"sk-estimator sk-toggleable\"><input class=\"sk-toggleable__control sk-hidden--visually\" id=\"sk-estimator-id-9\" type=\"checkbox\" ><label for=\"sk-estimator-id-9\" class=\"sk-toggleable__label sk-toggleable__label-arrow\">KNeighborsRegressor</label><div class=\"sk-toggleable__content\"><pre>KNeighborsRegressor()</pre></div></div></div></div></div></div></div></div></div></div></div></div>"
            ],
            "text/plain": [
              "GridSearchCV(cv=KFold(n_splits=10, random_state=None, shuffle=False),\n",
              "             estimator=Pipeline(steps=[('mm', MinMaxScaler()),\n",
              "                                       ('knn', KNeighborsRegressor())]),\n",
              "             param_grid={'knn__metric': ['manhattan', 'euclidean'],\n",
              "                         'knn__n_neighbors': range(1, 31),\n",
              "                         'knn__weights': ['uniform', 'distance']},\n",
              "             scoring='neg_mean_squared_error')"
            ]
          },
          "execution_count": 37,
          "metadata": {},
          "output_type": "execute_result"
        }
      ],
      "source": [
        "from sklearn.datasets import load_diabetes\n",
        "dataset  = load_diabetes()\n",
        "X = dataset.data\n",
        "Y = dataset.target\n",
        "\n",
        "from sklearn.preprocessing import MinMaxScaler\n",
        "from sklearn.pipeline import Pipeline\n",
        "mysteps = [('mm', MinMaxScaler()), ('knn', KNeighborsRegressor())]\n",
        "\n",
        "mpipe = Pipeline(steps = mysteps)\n",
        "\n",
        "from sklearn.model_selection import GridSearchCV, KFold\n",
        "kf = KFold(n_splits = 10)\n",
        "\n",
        "hyper_params = {'knn__n_neighbors':range(1,31),\n",
        "                'knn__metric':['manhattan','euclidean'],\n",
        "                'knn__weights':['uniform', 'distance']\n",
        "               }\n",
        "\n",
        "gcv = GridSearchCV(mpipe, param_grid = hyper_params, cv = kf, scoring = 'neg_mean_squared_error')\n",
        "gcv.fit(X, Y)"
      ]
    },
    {
      "cell_type": "code",
      "execution_count": null,
      "id": "0e0ac4f0-5a52-4f49-934b-a9dfd5e06a2c",
      "metadata": {
        "id": "0e0ac4f0-5a52-4f49-934b-a9dfd5e06a2c",
        "outputId": "43488450-8ddb-4686-c31e-d6a8abd4ef61"
      },
      "outputs": [
        {
          "data": {
            "text/plain": [
              "-3253.0680964703456"
            ]
          },
          "execution_count": 38,
          "metadata": {},
          "output_type": "execute_result"
        }
      ],
      "source": [
        "gcv.best_score_"
      ]
    },
    {
      "cell_type": "code",
      "execution_count": null,
      "id": "b9dfc6c0-c0ea-4cda-9e60-2f844590545a",
      "metadata": {
        "id": "b9dfc6c0-c0ea-4cda-9e60-2f844590545a",
        "outputId": "07297ff1-82c9-4583-d90d-d7452478ef1a"
      },
      "outputs": [
        {
          "data": {
            "text/plain": [
              "{'knn__metric': 'euclidean',\n",
              " 'knn__n_neighbors': 27,\n",
              " 'knn__weights': 'distance'}"
            ]
          },
          "execution_count": 39,
          "metadata": {},
          "output_type": "execute_result"
        }
      ],
      "source": [
        "gcv.best_params_"
      ]
    },
    {
      "cell_type": "code",
      "execution_count": null,
      "id": "52648811-ae27-45a4-9745-e774031ec235",
      "metadata": {
        "id": "52648811-ae27-45a4-9745-e774031ec235",
        "outputId": "7eadea85-7a2d-4eb0-e634-d278914704eb"
      },
      "outputs": [
        {
          "data": {
            "text/html": [
              "<style>#sk-container-id-5 {color: black;background-color: white;}#sk-container-id-5 pre{padding: 0;}#sk-container-id-5 div.sk-toggleable {background-color: white;}#sk-container-id-5 label.sk-toggleable__label {cursor: pointer;display: block;width: 100%;margin-bottom: 0;padding: 0.3em;box-sizing: border-box;text-align: center;}#sk-container-id-5 label.sk-toggleable__label-arrow:before {content: \"▸\";float: left;margin-right: 0.25em;color: #696969;}#sk-container-id-5 label.sk-toggleable__label-arrow:hover:before {color: black;}#sk-container-id-5 div.sk-estimator:hover label.sk-toggleable__label-arrow:before {color: black;}#sk-container-id-5 div.sk-toggleable__content {max-height: 0;max-width: 0;overflow: hidden;text-align: left;background-color: #f0f8ff;}#sk-container-id-5 div.sk-toggleable__content pre {margin: 0.2em;color: black;border-radius: 0.25em;background-color: #f0f8ff;}#sk-container-id-5 input.sk-toggleable__control:checked~div.sk-toggleable__content {max-height: 200px;max-width: 100%;overflow: auto;}#sk-container-id-5 input.sk-toggleable__control:checked~label.sk-toggleable__label-arrow:before {content: \"▾\";}#sk-container-id-5 div.sk-estimator input.sk-toggleable__control:checked~label.sk-toggleable__label {background-color: #d4ebff;}#sk-container-id-5 div.sk-label input.sk-toggleable__control:checked~label.sk-toggleable__label {background-color: #d4ebff;}#sk-container-id-5 input.sk-hidden--visually {border: 0;clip: rect(1px 1px 1px 1px);clip: rect(1px, 1px, 1px, 1px);height: 1px;margin: -1px;overflow: hidden;padding: 0;position: absolute;width: 1px;}#sk-container-id-5 div.sk-estimator {font-family: monospace;background-color: #f0f8ff;border: 1px dotted black;border-radius: 0.25em;box-sizing: border-box;margin-bottom: 0.5em;}#sk-container-id-5 div.sk-estimator:hover {background-color: #d4ebff;}#sk-container-id-5 div.sk-parallel-item::after {content: \"\";width: 100%;border-bottom: 1px solid gray;flex-grow: 1;}#sk-container-id-5 div.sk-label:hover label.sk-toggleable__label {background-color: #d4ebff;}#sk-container-id-5 div.sk-serial::before {content: \"\";position: absolute;border-left: 1px solid gray;box-sizing: border-box;top: 0;bottom: 0;left: 50%;z-index: 0;}#sk-container-id-5 div.sk-serial {display: flex;flex-direction: column;align-items: center;background-color: white;padding-right: 0.2em;padding-left: 0.2em;position: relative;}#sk-container-id-5 div.sk-item {position: relative;z-index: 1;}#sk-container-id-5 div.sk-parallel {display: flex;align-items: stretch;justify-content: center;background-color: white;position: relative;}#sk-container-id-5 div.sk-item::before, #sk-container-id-5 div.sk-parallel-item::before {content: \"\";position: absolute;border-left: 1px solid gray;box-sizing: border-box;top: 0;bottom: 0;left: 50%;z-index: -1;}#sk-container-id-5 div.sk-parallel-item {display: flex;flex-direction: column;z-index: 1;position: relative;background-color: white;}#sk-container-id-5 div.sk-parallel-item:first-child::after {align-self: flex-end;width: 50%;}#sk-container-id-5 div.sk-parallel-item:last-child::after {align-self: flex-start;width: 50%;}#sk-container-id-5 div.sk-parallel-item:only-child::after {width: 0;}#sk-container-id-5 div.sk-dashed-wrapped {border: 1px dashed gray;margin: 0 0.4em 0.5em 0.4em;box-sizing: border-box;padding-bottom: 0.4em;background-color: white;}#sk-container-id-5 div.sk-label label {font-family: monospace;font-weight: bold;display: inline-block;line-height: 1.2em;}#sk-container-id-5 div.sk-label-container {text-align: center;}#sk-container-id-5 div.sk-container {/* jupyter's `normalize.less` sets `[hidden] { display: none; }` but bootstrap.min.css set `[hidden] { display: none !important; }` so we also need the `!important` here to be able to override the default hidden behavior on the sphinx rendered scikit-learn.org. See: https://github.com/scikit-learn/scikit-learn/issues/21755 */display: inline-block !important;position: relative;}#sk-container-id-5 div.sk-text-repr-fallback {display: none;}</style><div id=\"sk-container-id-5\" class=\"sk-top-container\"><div class=\"sk-text-repr-fallback\"><pre>Pipeline(steps=[(&#x27;mm&#x27;, MinMaxScaler()),\n",
              "                (&#x27;knn&#x27;,\n",
              "                 KNeighborsRegressor(metric=&#x27;euclidean&#x27;, n_neighbors=27,\n",
              "                                     weights=&#x27;distance&#x27;))])</pre><b>In a Jupyter environment, please rerun this cell to show the HTML representation or trust the notebook. <br />On GitHub, the HTML representation is unable to render, please try loading this page with nbviewer.org.</b></div><div class=\"sk-container\" hidden><div class=\"sk-item sk-dashed-wrapped\"><div class=\"sk-label-container\"><div class=\"sk-label sk-toggleable\"><input class=\"sk-toggleable__control sk-hidden--visually\" id=\"sk-estimator-id-10\" type=\"checkbox\" ><label for=\"sk-estimator-id-10\" class=\"sk-toggleable__label sk-toggleable__label-arrow\">Pipeline</label><div class=\"sk-toggleable__content\"><pre>Pipeline(steps=[(&#x27;mm&#x27;, MinMaxScaler()),\n",
              "                (&#x27;knn&#x27;,\n",
              "                 KNeighborsRegressor(metric=&#x27;euclidean&#x27;, n_neighbors=27,\n",
              "                                     weights=&#x27;distance&#x27;))])</pre></div></div></div><div class=\"sk-serial\"><div class=\"sk-item\"><div class=\"sk-estimator sk-toggleable\"><input class=\"sk-toggleable__control sk-hidden--visually\" id=\"sk-estimator-id-11\" type=\"checkbox\" ><label for=\"sk-estimator-id-11\" class=\"sk-toggleable__label sk-toggleable__label-arrow\">MinMaxScaler</label><div class=\"sk-toggleable__content\"><pre>MinMaxScaler()</pre></div></div></div><div class=\"sk-item\"><div class=\"sk-estimator sk-toggleable\"><input class=\"sk-toggleable__control sk-hidden--visually\" id=\"sk-estimator-id-12\" type=\"checkbox\" ><label for=\"sk-estimator-id-12\" class=\"sk-toggleable__label sk-toggleable__label-arrow\">KNeighborsRegressor</label><div class=\"sk-toggleable__content\"><pre>KNeighborsRegressor(metric=&#x27;euclidean&#x27;, n_neighbors=27, weights=&#x27;distance&#x27;)</pre></div></div></div></div></div></div></div>"
            ],
            "text/plain": [
              "Pipeline(steps=[('mm', MinMaxScaler()),\n",
              "                ('knn',\n",
              "                 KNeighborsRegressor(metric='euclidean', n_neighbors=27,\n",
              "                                     weights='distance'))])"
            ]
          },
          "execution_count": 40,
          "metadata": {},
          "output_type": "execute_result"
        }
      ],
      "source": [
        "gcv.best_estimator_"
      ]
    },
    {
      "cell_type": "code",
      "execution_count": null,
      "id": "d10d6e05-a4ee-49bd-b126-b62bd967d513",
      "metadata": {
        "id": "d10d6e05-a4ee-49bd-b126-b62bd967d513"
      },
      "outputs": [],
      "source": []
    }
  ],
  "metadata": {
    "kernelspec": {
      "display_name": "Python 3",
      "language": "python",
      "name": "python3"
    },
    "language_info": {
      "codemirror_mode": {
        "name": "ipython",
        "version": 3
      },
      "file_extension": ".py",
      "mimetype": "text/x-python",
      "name": "python",
      "nbconvert_exporter": "python",
      "pygments_lexer": "ipython3",
      "version": "3.8.18"
    },
    "colab": {
      "provenance": [],
      "include_colab_link": true
    }
  },
  "nbformat": 4,
  "nbformat_minor": 5
}